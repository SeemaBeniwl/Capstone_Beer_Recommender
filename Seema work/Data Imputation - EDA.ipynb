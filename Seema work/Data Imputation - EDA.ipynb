{
 "cells": [
  {
   "cell_type": "markdown",
   "metadata": {
    "collapsed": true
   },
   "source": [
    "# EXPLORATORY DATA ANALYSIS"
   ]
  },
  {
   "cell_type": "markdown",
   "metadata": {},
   "source": [
    "### IMPORTING ALL THE REQUIRED MODULES"
   ]
  },
  {
   "cell_type": "code",
   "execution_count": 1,
   "metadata": {},
   "outputs": [],
   "source": [
    "import pandas as pd\n",
    "import matplotlib.pyplot as plt\n",
    "%matplotlib inline"
   ]
  },
  {
   "cell_type": "markdown",
   "metadata": {},
   "source": [
    "## Loading the data and storing it in a variable"
   ]
  },
  {
   "cell_type": "code",
   "execution_count": 4,
   "metadata": {},
   "outputs": [],
   "source": [
    "beer_data =pd.read_csv(\"C://Users/seema/Downloads/beerreview40_51.csv\" )             # encoding = 'ISO-8859-2'"
   ]
  },
  {
   "cell_type": "markdown",
   "metadata": {},
   "source": [
    "### Understanding the structure of Data"
   ]
  },
  {
   "cell_type": "code",
   "execution_count": 3,
   "metadata": {},
   "outputs": [
    {
     "data": {
      "text/html": [
       "<div>\n",
       "<style scoped>\n",
       "    .dataframe tbody tr th:only-of-type {\n",
       "        vertical-align: middle;\n",
       "    }\n",
       "\n",
       "    .dataframe tbody tr th {\n",
       "        vertical-align: top;\n",
       "    }\n",
       "\n",
       "    .dataframe thead th {\n",
       "        text-align: right;\n",
       "    }\n",
       "</style>\n",
       "<table border=\"1\" class=\"dataframe\">\n",
       "  <thead>\n",
       "    <tr style=\"text-align: right;\">\n",
       "      <th></th>\n",
       "      <th>palate</th>\n",
       "      <th>taste</th>\n",
       "      <th>appearance</th>\n",
       "      <th>review</th>\n",
       "      <th>overall</th>\n",
       "      <th>aroma</th>\n",
       "      <th>user_rating</th>\n",
       "      <th>user_info</th>\n",
       "      <th>state</th>\n",
       "      <th>beer_name</th>\n",
       "      <th>user_name</th>\n",
       "    </tr>\n",
       "  </thead>\n",
       "  <tbody>\n",
       "    <tr>\n",
       "      <th>0</th>\n",
       "      <td>2</td>\n",
       "      <td>6</td>\n",
       "      <td>3</td>\n",
       "      <td>2.8|Draft at the source. Clear light amber col...</td>\n",
       "      <td>10</td>\n",
       "      <td>7</td>\n",
       "      <td>2.8</td>\n",
       "      <td>- Charlotte, North Carolina, USA - NOV 6, 2015</td>\n",
       "      <td>South Dakota</td>\n",
       "      <td>Dempseys Longship Lager</td>\n",
       "      <td>Travlr</td>\n",
       "    </tr>\n",
       "    <tr>\n",
       "      <th>1</th>\n",
       "      <td>3</td>\n",
       "      <td>6</td>\n",
       "      <td>3</td>\n",
       "      <td>Draft - Caramel and light toast. Murky brown w...</td>\n",
       "      <td>11</td>\n",
       "      <td>6</td>\n",
       "      <td>2.9</td>\n",
       "      <td>- Burnaby, British Columbia, CANADA - SEP 24,...</td>\n",
       "      <td>South Dakota</td>\n",
       "      <td>Dempseys Longship Lager</td>\n",
       "      <td>Ferris</td>\n",
       "    </tr>\n",
       "    <tr>\n",
       "      <th>2</th>\n",
       "      <td>2</td>\n",
       "      <td>5</td>\n",
       "      <td>2</td>\n",
       "      <td>Tap at the brewpub. Slightly murky dirty amber...</td>\n",
       "      <td>10</td>\n",
       "      <td>5</td>\n",
       "      <td>2.4</td>\n",
       "      <td>- Plymouth, Minnesota, USA - SEP 16, 2014</td>\n",
       "      <td>South Dakota</td>\n",
       "      <td>Dempseys Longship Lager</td>\n",
       "      <td>BVery</td>\n",
       "    </tr>\n",
       "    <tr>\n",
       "      <th>3</th>\n",
       "      <td>3</td>\n",
       "      <td>7</td>\n",
       "      <td>3</td>\n",
       "      <td>Growler from the source, brought back by my da...</td>\n",
       "      <td>16</td>\n",
       "      <td>7</td>\n",
       "      <td>3.6</td>\n",
       "      <td>- Rockford, Illinois, USA - NOV 12, 2013</td>\n",
       "      <td>South Dakota</td>\n",
       "      <td>Dempseys Longship Lager</td>\n",
       "      <td>jmagnus87</td>\n",
       "    </tr>\n",
       "    <tr>\n",
       "      <th>4</th>\n",
       "      <td>1</td>\n",
       "      <td>2</td>\n",
       "      <td>3</td>\n",
       "      <td>on tap-pours dark amber with an offwhite ring....</td>\n",
       "      <td>3</td>\n",
       "      <td>7</td>\n",
       "      <td>1.6</td>\n",
       "      <td>- Florida and, New Jersey, USA - FEB 17, 2012</td>\n",
       "      <td>South Dakota</td>\n",
       "      <td>Dempseys Longship Lager</td>\n",
       "      <td>jcwattsrugger</td>\n",
       "    </tr>\n",
       "  </tbody>\n",
       "</table>\n",
       "</div>"
      ],
      "text/plain": [
       "   palate  taste  appearance  \\\n",
       "0       2      6           3   \n",
       "1       3      6           3   \n",
       "2       2      5           2   \n",
       "3       3      7           3   \n",
       "4       1      2           3   \n",
       "\n",
       "                                              review  overall  aroma  \\\n",
       "0  2.8|Draft at the source. Clear light amber col...       10      7   \n",
       "1  Draft - Caramel and light toast. Murky brown w...       11      6   \n",
       "2  Tap at the brewpub. Slightly murky dirty amber...       10      5   \n",
       "3  Growler from the source, brought back by my da...       16      7   \n",
       "4  on tap-pours dark amber with an offwhite ring....        3      7   \n",
       "\n",
       "   user_rating                                          user_info  \\\n",
       "0          2.8     - Charlotte, North Carolina, USA - NOV 6, 2015   \n",
       "1          2.9   - Burnaby, British Columbia, CANADA - SEP 24,...   \n",
       "2          2.4          - Plymouth, Minnesota, USA - SEP 16, 2014   \n",
       "3          3.6           - Rockford, Illinois, USA - NOV 12, 2013   \n",
       "4          1.6      - Florida and, New Jersey, USA - FEB 17, 2012   \n",
       "\n",
       "          state                beer_name      user_name  \n",
       "0  South Dakota  Dempseys Longship Lager         Travlr  \n",
       "1  South Dakota  Dempseys Longship Lager         Ferris  \n",
       "2  South Dakota  Dempseys Longship Lager          BVery  \n",
       "3  South Dakota  Dempseys Longship Lager      jmagnus87  \n",
       "4  South Dakota  Dempseys Longship Lager  jcwattsrugger  "
      ]
     },
     "execution_count": 3,
     "metadata": {},
     "output_type": "execute_result"
    }
   ],
   "source": [
    "beer_data.head()"
   ]
  },
  {
   "cell_type": "code",
   "execution_count": 5,
   "metadata": {},
   "outputs": [
    {
     "name": "stdout",
     "output_type": "stream",
     "text": [
      "<class 'pandas.core.frame.DataFrame'>\n",
      "RangeIndex: 36093 entries, 0 to 36092\n",
      "Data columns (total 11 columns):\n",
      "palate         36093 non-null int64\n",
      "taste          36093 non-null int64\n",
      "appearance     36093 non-null int64\n",
      "review         36089 non-null object\n",
      "overall        36093 non-null int64\n",
      "aroma          36093 non-null int64\n",
      "user_rating    36093 non-null float64\n",
      "user_info      36093 non-null object\n",
      "state          36093 non-null object\n",
      "beer_name      36093 non-null object\n",
      "user_name      36093 non-null object\n",
      "dtypes: float64(1), int64(5), object(5)\n",
      "memory usage: 3.0+ MB\n"
     ]
    }
   ],
   "source": [
    "beer_data.info()"
   ]
  },
  {
   "cell_type": "code",
   "execution_count": 4,
   "metadata": {},
   "outputs": [
    {
     "data": {
      "text/html": [
       "<div>\n",
       "<table border=\"1\" class=\"dataframe\">\n",
       "  <thead>\n",
       "    <tr style=\"text-align: right;\">\n",
       "      <th></th>\n",
       "      <th>palate</th>\n",
       "      <th>taste</th>\n",
       "      <th>appearance</th>\n",
       "      <th>overall</th>\n",
       "      <th>aroma</th>\n",
       "      <th>user_rating</th>\n",
       "    </tr>\n",
       "  </thead>\n",
       "  <tbody>\n",
       "    <tr>\n",
       "      <th>count</th>\n",
       "      <td>36093.000000</td>\n",
       "      <td>36093.000000</td>\n",
       "      <td>36093.000000</td>\n",
       "      <td>36093.000000</td>\n",
       "      <td>36093.000000</td>\n",
       "      <td>36093.000000</td>\n",
       "    </tr>\n",
       "    <tr>\n",
       "      <th>mean</th>\n",
       "      <td>3.864156</td>\n",
       "      <td>7.810767</td>\n",
       "      <td>3.915579</td>\n",
       "      <td>15.915579</td>\n",
       "      <td>7.767129</td>\n",
       "      <td>3.927321</td>\n",
       "    </tr>\n",
       "    <tr>\n",
       "      <th>std</th>\n",
       "      <td>0.678328</td>\n",
       "      <td>1.083890</td>\n",
       "      <td>0.661218</td>\n",
       "      <td>1.995019</td>\n",
       "      <td>1.071113</td>\n",
       "      <td>0.432203</td>\n",
       "    </tr>\n",
       "    <tr>\n",
       "      <th>min</th>\n",
       "      <td>1.000000</td>\n",
       "      <td>1.000000</td>\n",
       "      <td>1.000000</td>\n",
       "      <td>1.000000</td>\n",
       "      <td>1.000000</td>\n",
       "      <td>0.500000</td>\n",
       "    </tr>\n",
       "    <tr>\n",
       "      <th>25%</th>\n",
       "      <td>3.000000</td>\n",
       "      <td>7.000000</td>\n",
       "      <td>4.000000</td>\n",
       "      <td>15.000000</td>\n",
       "      <td>7.000000</td>\n",
       "      <td>3.700000</td>\n",
       "    </tr>\n",
       "    <tr>\n",
       "      <th>50%</th>\n",
       "      <td>4.000000</td>\n",
       "      <td>8.000000</td>\n",
       "      <td>4.000000</td>\n",
       "      <td>16.000000</td>\n",
       "      <td>8.000000</td>\n",
       "      <td>4.000000</td>\n",
       "    </tr>\n",
       "    <tr>\n",
       "      <th>75%</th>\n",
       "      <td>4.000000</td>\n",
       "      <td>8.000000</td>\n",
       "      <td>4.000000</td>\n",
       "      <td>17.000000</td>\n",
       "      <td>8.000000</td>\n",
       "      <td>4.200000</td>\n",
       "    </tr>\n",
       "    <tr>\n",
       "      <th>max</th>\n",
       "      <td>5.000000</td>\n",
       "      <td>10.000000</td>\n",
       "      <td>5.000000</td>\n",
       "      <td>20.000000</td>\n",
       "      <td>10.000000</td>\n",
       "      <td>5.000000</td>\n",
       "    </tr>\n",
       "  </tbody>\n",
       "</table>\n",
       "</div>"
      ],
      "text/plain": [
       "             palate         taste    appearance       overall         aroma  \\\n",
       "count  36093.000000  36093.000000  36093.000000  36093.000000  36093.000000   \n",
       "mean       3.864156      7.810767      3.915579     15.915579      7.767129   \n",
       "std        0.678328      1.083890      0.661218      1.995019      1.071113   \n",
       "min        1.000000      1.000000      1.000000      1.000000      1.000000   \n",
       "25%        3.000000      7.000000      4.000000     15.000000      7.000000   \n",
       "50%        4.000000      8.000000      4.000000     16.000000      8.000000   \n",
       "75%        4.000000      8.000000      4.000000     17.000000      8.000000   \n",
       "max        5.000000     10.000000      5.000000     20.000000     10.000000   \n",
       "\n",
       "        user_rating  \n",
       "count  36093.000000  \n",
       "mean       3.927321  \n",
       "std        0.432203  \n",
       "min        0.500000  \n",
       "25%        3.700000  \n",
       "50%        4.000000  \n",
       "75%        4.200000  \n",
       "max        5.000000  "
      ]
     },
     "execution_count": 4,
     "metadata": {},
     "output_type": "execute_result"
    }
   ],
   "source": [
    "beer_data.describe()"
   ]
  },
  {
   "cell_type": "code",
   "execution_count": 7,
   "metadata": {},
   "outputs": [
    {
     "data": {
      "text/html": [
       "<div>\n",
       "<style scoped>\n",
       "    .dataframe tbody tr th:only-of-type {\n",
       "        vertical-align: middle;\n",
       "    }\n",
       "\n",
       "    .dataframe tbody tr th {\n",
       "        vertical-align: top;\n",
       "    }\n",
       "\n",
       "    .dataframe thead th {\n",
       "        text-align: right;\n",
       "    }\n",
       "</style>\n",
       "<table border=\"1\" class=\"dataframe\">\n",
       "  <thead>\n",
       "    <tr style=\"text-align: right;\">\n",
       "      <th></th>\n",
       "      <th>var_name</th>\n",
       "      <th>missing_value_count</th>\n",
       "    </tr>\n",
       "  </thead>\n",
       "  <tbody>\n",
       "    <tr>\n",
       "      <th>0</th>\n",
       "      <td>palate</td>\n",
       "      <td>0</td>\n",
       "    </tr>\n",
       "    <tr>\n",
       "      <th>1</th>\n",
       "      <td>taste</td>\n",
       "      <td>0</td>\n",
       "    </tr>\n",
       "    <tr>\n",
       "      <th>2</th>\n",
       "      <td>appearance</td>\n",
       "      <td>0</td>\n",
       "    </tr>\n",
       "    <tr>\n",
       "      <th>3</th>\n",
       "      <td>review</td>\n",
       "      <td>4</td>\n",
       "    </tr>\n",
       "    <tr>\n",
       "      <th>4</th>\n",
       "      <td>overall</td>\n",
       "      <td>0</td>\n",
       "    </tr>\n",
       "    <tr>\n",
       "      <th>5</th>\n",
       "      <td>aroma</td>\n",
       "      <td>0</td>\n",
       "    </tr>\n",
       "    <tr>\n",
       "      <th>6</th>\n",
       "      <td>user_rating</td>\n",
       "      <td>0</td>\n",
       "    </tr>\n",
       "    <tr>\n",
       "      <th>7</th>\n",
       "      <td>user_info</td>\n",
       "      <td>0</td>\n",
       "    </tr>\n",
       "    <tr>\n",
       "      <th>8</th>\n",
       "      <td>state</td>\n",
       "      <td>0</td>\n",
       "    </tr>\n",
       "    <tr>\n",
       "      <th>9</th>\n",
       "      <td>beer_name</td>\n",
       "      <td>0</td>\n",
       "    </tr>\n",
       "    <tr>\n",
       "      <th>10</th>\n",
       "      <td>user_name</td>\n",
       "      <td>0</td>\n",
       "    </tr>\n",
       "  </tbody>\n",
       "</table>\n",
       "</div>"
      ],
      "text/plain": [
       "       var_name  missing_value_count\n",
       "0        palate                    0\n",
       "1         taste                    0\n",
       "2    appearance                    0\n",
       "3        review                    4\n",
       "4       overall                    0\n",
       "5         aroma                    0\n",
       "6   user_rating                    0\n",
       "7     user_info                    0\n",
       "8         state                    0\n",
       "9     beer_name                    0\n",
       "10    user_name                    0"
      ]
     },
     "execution_count": 7,
     "metadata": {},
     "output_type": "execute_result"
    }
   ],
   "source": [
    "# Check missing values\n",
    "na_values = pd.DataFrame(beer_data.isnull().sum().rename('missing_value_count')).reset_index().rename(columns={'index': 'var_name'})\n",
    "na_values[na_values['missing_value_count'] >= 0]"
   ]
  },
  {
   "cell_type": "markdown",
   "metadata": {},
   "source": [
    "No. NA values are there except Reviews column\n"
   ]
  },
  {
   "cell_type": "markdown",
   "metadata": {},
   "source": [
    "### Making a calculated column."
   ]
  },
  {
   "cell_type": "code",
   "execution_count": 10,
   "metadata": {},
   "outputs": [],
   "source": [
    "beer_data[\"My_var\"] = ((beer_data['palate']+ beer_data['taste']+ beer_data['appearance']+ beer_data['aroma'])/3)*2"
   ]
  },
  {
   "cell_type": "code",
   "execution_count": 11,
   "metadata": {},
   "outputs": [
    {
     "data": {
      "text/plain": [
       "67.27897376222536"
      ]
     },
     "execution_count": 11,
     "metadata": {},
     "output_type": "execute_result"
    }
   ],
   "source": [
    "(len(beer_data) - len(beer_data.query(\"My_var > overall\")))/len(beer_data)*100"
   ]
  },
  {
   "cell_type": "markdown",
   "metadata": {},
   "source": [
    "So, We see that people 67% of the people give more rating than that calculated by the variable. So, The overall rating consists of more factors than the one just present in the data collected. "
   ]
  },
  {
   "cell_type": "code",
   "execution_count": 12,
   "metadata": {},
   "outputs": [],
   "source": [
    "beer =beer_data.boxplot"
   ]
  },
  {
   "cell_type": "code",
   "execution_count": 13,
   "metadata": {},
   "outputs": [],
   "source": [
    "import matplotlib.pyplot as plt\n",
    "plt.figure();\n",
    "bp = beer_data.boxplot()"
   ]
  },
  {
   "cell_type": "code",
   "execution_count": 14,
   "metadata": {},
   "outputs": [
    {
     "data": {
      "image/png": "[encoded data removed]",
      "text/plain": [
       "<matplotlib.figure.Figure at 0x18be9238d30>"
      ]
     },
     "metadata": {},
     "output_type": "display_data"
    }
   ],
   "source": [
    "plt.show()"
   ]
  },
  {
   "cell_type": "code",
   "execution_count": 16,
   "metadata": {
    "collapsed": true
   },
   "outputs": [],
   "source": [
    "beer_copy = beer_data"
   ]
  },
  {
   "cell_type": "code",
   "execution_count": 17,
   "metadata": {},
   "outputs": [],
   "source": [
    "beer_copy['overall'] = beer_copy['overall']/4"
   ]
  },
  {
   "cell_type": "code",
   "execution_count": 18,
   "metadata": {},
   "outputs": [],
   "source": [
    "beer_copy['taste'] = beer_copy['taste']/2"
   ]
  },
  {
   "cell_type": "code",
   "execution_count": 19,
   "metadata": {
    "collapsed": true
   },
   "outputs": [],
   "source": [
    "beer_copy['aroma'] = beer_copy['aroma']/2"
   ]
  },
  {
   "cell_type": "code",
   "execution_count": 20,
   "metadata": {
    "collapsed": true
   },
   "outputs": [],
   "source": [
    "beer_copy['My_var'] = beer_copy['My_var']/4"
   ]
  },
  {
   "cell_type": "code",
   "execution_count": 21,
   "metadata": {},
   "outputs": [],
   "source": [
    "##del beer_copy['My var']"
   ]
  },
  {
   "cell_type": "code",
   "execution_count": 21,
   "metadata": {},
   "outputs": [
    {
     "data": {
      "text/html": [
       "<div>\n",
       "<table border=\"1\" class=\"dataframe\">\n",
       "  <thead>\n",
       "    <tr style=\"text-align: right;\">\n",
       "      <th></th>\n",
       "      <th>palate</th>\n",
       "      <th>taste</th>\n",
       "      <th>appearance</th>\n",
       "      <th>review</th>\n",
       "      <th>overall</th>\n",
       "      <th>aroma</th>\n",
       "      <th>user_rating</th>\n",
       "      <th>user_info</th>\n",
       "      <th>state</th>\n",
       "      <th>beer_name</th>\n",
       "      <th>user_name</th>\n",
       "      <th>My_var</th>\n",
       "    </tr>\n",
       "  </thead>\n",
       "  <tbody>\n",
       "    <tr>\n",
       "      <th>0</th>\n",
       "      <td>2</td>\n",
       "      <td>3.0</td>\n",
       "      <td>3</td>\n",
       "      <td>2.8|Draft at the source. Clear light amber col...</td>\n",
       "      <td>2.50</td>\n",
       "      <td>3.5</td>\n",
       "      <td>2.8</td>\n",
       "      <td>- Charlotte, North Carolina, USA - NOV 6, 2015</td>\n",
       "      <td>South Dakota</td>\n",
       "      <td>Dempseys Longship Lager</td>\n",
       "      <td>Travlr</td>\n",
       "      <td>3.0</td>\n",
       "    </tr>\n",
       "    <tr>\n",
       "      <th>1</th>\n",
       "      <td>3</td>\n",
       "      <td>3.0</td>\n",
       "      <td>3</td>\n",
       "      <td>Draft - Caramel and light toast. Murky brown w...</td>\n",
       "      <td>2.75</td>\n",
       "      <td>3.0</td>\n",
       "      <td>2.9</td>\n",
       "      <td>- Burnaby, British Columbia, CANADA - SEP 24,...</td>\n",
       "      <td>South Dakota</td>\n",
       "      <td>Dempseys Longship Lager</td>\n",
       "      <td>Ferris</td>\n",
       "      <td>3.0</td>\n",
       "    </tr>\n",
       "  </tbody>\n",
       "</table>\n",
       "</div>"
      ],
      "text/plain": [
       "   palate  taste  appearance  \\\n",
       "0       2    3.0           3   \n",
       "1       3    3.0           3   \n",
       "\n",
       "                                              review  overall  aroma  \\\n",
       "0  2.8|Draft at the source. Clear light amber col...     2.50    3.5   \n",
       "1  Draft - Caramel and light toast. Murky brown w...     2.75    3.0   \n",
       "\n",
       "   user_rating                                          user_info  \\\n",
       "0          2.8     - Charlotte, North Carolina, USA - NOV 6, 2015   \n",
       "1          2.9   - Burnaby, British Columbia, CANADA - SEP 24,...   \n",
       "\n",
       "          state                beer_name user_name  My_var  \n",
       "0  South Dakota  Dempseys Longship Lager    Travlr     3.0  \n",
       "1  South Dakota  Dempseys Longship Lager    Ferris     3.0  "
      ]
     },
     "execution_count": 21,
     "metadata": {},
     "output_type": "execute_result"
    }
   ],
   "source": [
    "beer_copy.head(2)"
   ]
  },
  {
   "cell_type": "code",
   "execution_count": 22,
   "metadata": {},
   "outputs": [
    {
     "data": {
      "image/png": "[encoded data removed]",
      "text/plain": [
       "<matplotlib.figure.Figure at 0x18be92952e8>"
      ]
     },
     "metadata": {},
     "output_type": "display_data"
    }
   ],
   "source": [
    "##import matplotlib.pyplot as plt\n",
    "plt.figure() ;\n",
    "bn = beer_copy.boxplot()\n",
    "plt.show()"
   ]
  },
  {
   "cell_type": "code",
   "execution_count": null,
   "metadata": {},
   "outputs": [],
   "source": [
    "## beer_copy.mean()"
   ]
  },
  {
   "cell_type": "code",
   "execution_count": 32,
   "metadata": {},
   "outputs": [
    {
     "data": {
      "text/plain": [
       "86"
      ]
     },
     "execution_count": 32,
     "metadata": {},
     "output_type": "execute_result"
    }
   ],
   "source": [
    "len(beer_copy.query('user_rating < 2'))"
   ]
  },
  {
   "cell_type": "code",
   "execution_count": 24,
   "metadata": {},
   "outputs": [
    {
     "data": {
      "text/plain": [
       "palate         4.0\n",
       "taste          4.0\n",
       "appearance     4.0\n",
       "overall        4.0\n",
       "aroma          4.0\n",
       "user_rating    4.0\n",
       "My_var         4.0\n",
       "dtype: float64"
      ]
     },
     "execution_count": 24,
     "metadata": {},
     "output_type": "execute_result"
    }
   ],
   "source": [
    "beer_copy.median()"
   ]
  },
  {
   "cell_type": "code",
   "execution_count": 25,
   "metadata": {},
   "outputs": [
    {
     "data": {
      "text/html": [
       "<div>\n",
       "<table border=\"1\" class=\"dataframe\">\n",
       "  <thead>\n",
       "    <tr style=\"text-align: right;\">\n",
       "      <th></th>\n",
       "      <th>palate</th>\n",
       "      <th>taste</th>\n",
       "      <th>appearance</th>\n",
       "      <th>review</th>\n",
       "      <th>overall</th>\n",
       "      <th>aroma</th>\n",
       "      <th>user_rating</th>\n",
       "      <th>user_info</th>\n",
       "      <th>state</th>\n",
       "      <th>beer_name</th>\n",
       "      <th>user_name</th>\n",
       "      <th>My_var</th>\n",
       "    </tr>\n",
       "  </thead>\n",
       "  <tbody>\n",
       "    <tr>\n",
       "      <th>0</th>\n",
       "      <td>4</td>\n",
       "      <td>4.0</td>\n",
       "      <td>4</td>\n",
       "      <td>Pours a golden orange with a small white head....</td>\n",
       "      <td>4.0</td>\n",
       "      <td>4.0</td>\n",
       "      <td>4.0</td>\n",
       "      <td>- Woodstock, Georgia, USA - SEP 1, 2007</td>\n",
       "      <td>Wisconsin</td>\n",
       "      <td>Alchemist Heady Topper</td>\n",
       "      <td>Travlr</td>\n",
       "      <td>4.0</td>\n",
       "    </tr>\n",
       "  </tbody>\n",
       "</table>\n",
       "</div>"
      ],
      "text/plain": [
       "   palate  taste  appearance  \\\n",
       "0       4    4.0           4   \n",
       "\n",
       "                                              review  overall  aroma  \\\n",
       "0  Pours a golden orange with a small white head....      4.0    4.0   \n",
       "\n",
       "   user_rating                                 user_info      state  \\\n",
       "0          4.0   - Woodstock, Georgia, USA - SEP 1, 2007  Wisconsin   \n",
       "\n",
       "                beer_name user_name  My_var  \n",
       "0  Alchemist Heady Topper    Travlr     4.0  "
      ]
     },
     "execution_count": 25,
     "metadata": {},
     "output_type": "execute_result"
    }
   ],
   "source": [
    "beer_copy.mode()"
   ]
  },
  {
   "cell_type": "code",
   "execution_count": null,
   "metadata": {
    "collapsed": true
   },
   "outputs": [],
   "source": [
    "## Trying to fuse in all the plots in a single graph for better comparison."
   ]
  },
  {
   "cell_type": "code",
   "execution_count": 35,
   "metadata": {
    "collapsed": true
   },
   "outputs": [],
   "source": [
    "?plt.hist\n"
   ]
  },
  {
   "cell_type": "markdown",
   "metadata": {},
   "source": [
    "# Getting a comparative subplot\n"
   ]
  },
  {
   "cell_type": "code",
   "execution_count": 41,
   "metadata": {},
   "outputs": [
    {
     "data": {
      "image/png": "[encoded data removed]",
      "text/plain": [
       "<matplotlib.figure.Figure at 0x18be98fba90>"
      ]
     },
     "metadata": {},
     "output_type": "display_data"
    },
    {
     "data": {
      "image/png": "[encoded data removed]",
      "text/plain": [
       "<matplotlib.figure.Figure at 0x18be9e40898>"
      ]
     },
     "metadata": {},
     "output_type": "display_data"
    }
   ],
   "source": [
    "plt.subplot(1,6,1)\n",
    "plt.hist(beer_copy['palate'],bins=5)\n",
    "plt.title('Palate')\n",
    "plt.ylabel('Frequency')\n",
    "\n",
    "plt.subplot(1,6,3)                                                                                 # 2500\n",
    "plt.hist(beer_copy['taste'],bins=5)\n",
    "plt.title('Taste')\n",
    "plt.ylabel('Frequency')                                                            # overall , aroma , user-rating \n",
    "\n",
    "plt.subplot(1,6,5)\n",
    "plt.hist(beer_copy['appearance'], bins = 5)\n",
    "plt.title(\"Appearance\")\n",
    "plt.ylabel('Frequency')\n",
    "\n",
    "plt.show() \n",
    "\n",
    "plt.subplot(2,6,1)\n",
    "plt.hist(beer_copy['aroma'],bins=5)\n",
    "plt.title(\"Aroma\")\n",
    "plt.ylabel('Frequency')\n",
    "\n",
    "plt.subplot(2,6,3)\n",
    "plt.hist(beer_copy['overall'],bins=5)\n",
    "plt.title(\"Overall\")\n",
    "plt.ylabel(\"Frequency\")\n",
    "\n",
    "plt.subplot(2,6,5)\n",
    "plt.hist(beer_copy['user_rating'],bins=5)\n",
    "plt.title(\"User-rating\")\n",
    "plt.ylabel(\"Frequency\")\n",
    "\n",
    "##plt.tight_layout()\n",
    "plt.show()\n",
    "\n"
   ]
  },
  {
   "cell_type": "code",
   "execution_count": null,
   "metadata": {},
   "outputs": [],
   "source": [
    "plt.hist(beer_copy['taste'],bins=5)\n",
    "plt.show()\n"
   ]
  },
  {
   "cell_type": "code",
   "execution_count": null,
   "metadata": {},
   "outputs": [],
   "source": [
    "plt.hist(beer_copy['appearance'],bins=5)\n",
    "plt.show()\n"
   ]
  },
  {
   "cell_type": "code",
   "execution_count": null,
   "metadata": {},
   "outputs": [],
   "source": [
    "plt.hist(beer_copy['overall'],bins=5)\n",
    "plt.show()"
   ]
  },
  {
   "cell_type": "code",
   "execution_count": null,
   "metadata": {},
   "outputs": [],
   "source": [
    "plt.hist(beer_copy['aroma'],bins=5)\n",
    "plt.show()"
   ]
  },
  {
   "cell_type": "code",
   "execution_count": null,
   "metadata": {},
   "outputs": [],
   "source": [
    "plt.hist(beer_copy['user_rating'],bins=5)\n",
    "plt.show()\n"
   ]
  },
  {
   "cell_type": "code",
   "execution_count": null,
   "metadata": {},
   "outputs": [],
   "source": [
    "plt.hist(beer_copy['My_var'],bins=5)\n",
    "plt.show()"
   ]
  },
  {
   "cell_type": "code",
   "execution_count": null,
   "metadata": {},
   "outputs": [],
   "source": [
    "beer_copy.head(2)"
   ]
  },
  {
   "cell_type": "code",
   "execution_count": 43,
   "metadata": {},
   "outputs": [],
   "source": [
    "beer_value = beer_copy[['palate','taste','appearance','overall','aroma','user_rating','My_var']]"
   ]
  },
  {
   "cell_type": "code",
   "execution_count": 44,
   "metadata": {},
   "outputs": [
    {
     "data": {
      "text/html": [
       "<div>\n",
       "<table border=\"1\" class=\"dataframe\">\n",
       "  <thead>\n",
       "    <tr style=\"text-align: right;\">\n",
       "      <th></th>\n",
       "      <th>palate</th>\n",
       "      <th>taste</th>\n",
       "      <th>appearance</th>\n",
       "      <th>overall</th>\n",
       "      <th>aroma</th>\n",
       "      <th>user_rating</th>\n",
       "      <th>My_var</th>\n",
       "    </tr>\n",
       "  </thead>\n",
       "  <tbody>\n",
       "    <tr>\n",
       "      <th>0</th>\n",
       "      <td>2</td>\n",
       "      <td>3.0</td>\n",
       "      <td>3</td>\n",
       "      <td>2.50</td>\n",
       "      <td>3.5</td>\n",
       "      <td>2.8</td>\n",
       "      <td>3.000000</td>\n",
       "    </tr>\n",
       "    <tr>\n",
       "      <th>1</th>\n",
       "      <td>3</td>\n",
       "      <td>3.0</td>\n",
       "      <td>3</td>\n",
       "      <td>2.75</td>\n",
       "      <td>3.0</td>\n",
       "      <td>2.9</td>\n",
       "      <td>3.000000</td>\n",
       "    </tr>\n",
       "    <tr>\n",
       "      <th>2</th>\n",
       "      <td>2</td>\n",
       "      <td>2.5</td>\n",
       "      <td>2</td>\n",
       "      <td>2.50</td>\n",
       "      <td>2.5</td>\n",
       "      <td>2.4</td>\n",
       "      <td>2.333333</td>\n",
       "    </tr>\n",
       "    <tr>\n",
       "      <th>3</th>\n",
       "      <td>3</td>\n",
       "      <td>3.5</td>\n",
       "      <td>3</td>\n",
       "      <td>4.00</td>\n",
       "      <td>3.5</td>\n",
       "      <td>3.6</td>\n",
       "      <td>3.333333</td>\n",
       "    </tr>\n",
       "    <tr>\n",
       "      <th>4</th>\n",
       "      <td>1</td>\n",
       "      <td>1.0</td>\n",
       "      <td>3</td>\n",
       "      <td>0.75</td>\n",
       "      <td>3.5</td>\n",
       "      <td>1.6</td>\n",
       "      <td>2.166667</td>\n",
       "    </tr>\n",
       "  </tbody>\n",
       "</table>\n",
       "</div>"
      ],
      "text/plain": [
       "   palate  taste  appearance  overall  aroma  user_rating    My_var\n",
       "0       2    3.0           3     2.50    3.5          2.8  3.000000\n",
       "1       3    3.0           3     2.75    3.0          2.9  3.000000\n",
       "2       2    2.5           2     2.50    2.5          2.4  2.333333\n",
       "3       3    3.5           3     4.00    3.5          3.6  3.333333\n",
       "4       1    1.0           3     0.75    3.5          1.6  2.166667"
      ]
     },
     "execution_count": 44,
     "metadata": {},
     "output_type": "execute_result"
    }
   ],
   "source": [
    "beer_value.head()"
   ]
  },
  {
   "cell_type": "code",
   "execution_count": 45,
   "metadata": {},
   "outputs": [
    {
     "data": {
      "text/html": [
       "<div>\n",
       "<table border=\"1\" class=\"dataframe\">\n",
       "  <thead>\n",
       "    <tr style=\"text-align: right;\">\n",
       "      <th></th>\n",
       "      <th>palate</th>\n",
       "      <th>taste</th>\n",
       "      <th>appearance</th>\n",
       "      <th>overall</th>\n",
       "      <th>aroma</th>\n",
       "      <th>user_rating</th>\n",
       "      <th>My_var</th>\n",
       "    </tr>\n",
       "  </thead>\n",
       "  <tbody>\n",
       "    <tr>\n",
       "      <th>palate</th>\n",
       "      <td>1.000000</td>\n",
       "      <td>0.489153</td>\n",
       "      <td>0.398879</td>\n",
       "      <td>0.476042</td>\n",
       "      <td>0.354314</td>\n",
       "      <td>0.648187</td>\n",
       "      <td>0.699534</td>\n",
       "    </tr>\n",
       "    <tr>\n",
       "      <th>taste</th>\n",
       "      <td>0.489153</td>\n",
       "      <td>1.000000</td>\n",
       "      <td>0.261046</td>\n",
       "      <td>0.737429</td>\n",
       "      <td>0.631705</td>\n",
       "      <td>0.864435</td>\n",
       "      <td>0.855611</td>\n",
       "    </tr>\n",
       "    <tr>\n",
       "      <th>appearance</th>\n",
       "      <td>0.398879</td>\n",
       "      <td>0.261046</td>\n",
       "      <td>1.000000</td>\n",
       "      <td>0.252565</td>\n",
       "      <td>0.250665</td>\n",
       "      <td>0.459760</td>\n",
       "      <td>0.560310</td>\n",
       "    </tr>\n",
       "    <tr>\n",
       "      <th>overall</th>\n",
       "      <td>0.476042</td>\n",
       "      <td>0.737429</td>\n",
       "      <td>0.252565</td>\n",
       "      <td>1.000000</td>\n",
       "      <td>0.596300</td>\n",
       "      <td>0.907659</td>\n",
       "      <td>0.728296</td>\n",
       "    </tr>\n",
       "    <tr>\n",
       "      <th>aroma</th>\n",
       "      <td>0.354314</td>\n",
       "      <td>0.631705</td>\n",
       "      <td>0.250665</td>\n",
       "      <td>0.596300</td>\n",
       "      <td>1.000000</td>\n",
       "      <td>0.775452</td>\n",
       "      <td>0.816688</td>\n",
       "    </tr>\n",
       "    <tr>\n",
       "      <th>user_rating</th>\n",
       "      <td>0.648187</td>\n",
       "      <td>0.864435</td>\n",
       "      <td>0.459760</td>\n",
       "      <td>0.907659</td>\n",
       "      <td>0.775452</td>\n",
       "      <td>1.000000</td>\n",
       "      <td>0.948655</td>\n",
       "    </tr>\n",
       "    <tr>\n",
       "      <th>My_var</th>\n",
       "      <td>0.699534</td>\n",
       "      <td>0.855611</td>\n",
       "      <td>0.560310</td>\n",
       "      <td>0.728296</td>\n",
       "      <td>0.816688</td>\n",
       "      <td>0.948655</td>\n",
       "      <td>1.000000</td>\n",
       "    </tr>\n",
       "  </tbody>\n",
       "</table>\n",
       "</div>"
      ],
      "text/plain": [
       "               palate     taste  appearance   overall     aroma  user_rating  \\\n",
       "palate       1.000000  0.489153    0.398879  0.476042  0.354314     0.648187   \n",
       "taste        0.489153  1.000000    0.261046  0.737429  0.631705     0.864435   \n",
       "appearance   0.398879  0.261046    1.000000  0.252565  0.250665     0.459760   \n",
       "overall      0.476042  0.737429    0.252565  1.000000  0.596300     0.907659   \n",
       "aroma        0.354314  0.631705    0.250665  0.596300  1.000000     0.775452   \n",
       "user_rating  0.648187  0.864435    0.459760  0.907659  0.775452     1.000000   \n",
       "My_var       0.699534  0.855611    0.560310  0.728296  0.816688     0.948655   \n",
       "\n",
       "               My_var  \n",
       "palate       0.699534  \n",
       "taste        0.855611  \n",
       "appearance   0.560310  \n",
       "overall      0.728296  \n",
       "aroma        0.816688  \n",
       "user_rating  0.948655  \n",
       "My_var       1.000000  "
      ]
     },
     "execution_count": 45,
     "metadata": {},
     "output_type": "execute_result"
    }
   ],
   "source": [
    "beer_value.corr()"
   ]
  },
  {
   "cell_type": "code",
   "execution_count": 46,
   "metadata": {},
   "outputs": [
    {
     "data": {
      "image/png": "[encoded data removed]",
      "text/plain": [
       "<matplotlib.figure.Figure at 0x18be9d840b8>"
      ]
     },
     "metadata": {},
     "output_type": "display_data"
    }
   ],
   "source": [
    "plt.matshow(beer_value.corr())\n",
    "plt.show()"
   ]
  },
  {
   "cell_type": "raw",
   "metadata": {},
   "source": [
    "Trying to find all states, grouping and getting state data out and see the behaviour general and towards every brand of beer"
   ]
  },
  {
   "cell_type": "code",
   "execution_count": 47,
   "metadata": {},
   "outputs": [],
   "source": [
    "val = beer_copy['state'].unique()               # 12 states"
   ]
  },
  {
   "cell_type": "code",
   "execution_count": 48,
   "metadata": {},
   "outputs": [
    {
     "data": {
      "text/plain": [
       "296"
      ]
     },
     "execution_count": 48,
     "metadata": {},
     "output_type": "execute_result"
    }
   ],
   "source": [
    "len(beer_copy['beer_name'].unique())                                 # 296 beers"
   ]
  },
  {
   "cell_type": "code",
   "execution_count": 49,
   "metadata": {
    "collapsed": true
   },
   "outputs": [],
   "source": [
    "# Do it for one state and then make loop for eleven of them"
   ]
  },
  {
   "cell_type": "code",
   "execution_count": 50,
   "metadata": {},
   "outputs": [
    {
     "data": {
      "text/plain": [
       "296"
      ]
     },
     "execution_count": 50,
     "metadata": {},
     "output_type": "execute_result"
    }
   ],
   "source": [
    "len(beer_copy['beer_name'].unique())                                 # 296 beers"
   ]
  },
  {
   "cell_type": "code",
   "execution_count": 55,
   "metadata": {},
   "outputs": [
    {
     "data": {
      "image/png": "[encoded data removed]",
      "text/plain": [
       "<matplotlib.figure.Figure at 0x18be9ddb588>"
      ]
     },
     "metadata": {},
     "output_type": "display_data"
    }
   ],
   "source": [
    "import matplotlib.mlab as mlab\n",
    "#import math\n",
    "\n",
    "Aroma = beer_copy['aroma']\n",
    "plt.plot(Aroma,mlab.normpdf(Aroma, Aroma.mean(), Aroma.std()))\n",
    "plt.show()\n"
   ]
  },
  {
   "cell_type": "code",
   "execution_count": 56,
   "metadata": {},
   "outputs": [],
   "source": []
  },
  {
   "cell_type": "code",
   "execution_count": null,
   "metadata": {},
   "outputs": [],
   "source": []
  },
  {
   "cell_type": "code",
   "execution_count": null,
   "metadata": {
    "collapsed": true
   },
   "outputs": [],
   "source": []
  }
 ],
 "metadata": {
  "kernelspec": {
   "display_name": "Python 2",
   "language": "python",
   "name": "python2"
  },
  "language_info": {
   "codemirror_mode": {
    "name": "ipython",
    "version": 2
   },
   "file_extension": ".py",
   "mimetype": "text/x-python",
   "name": "python",
   "nbconvert_exporter": "python",
   "pygments_lexer": "ipython2",
   "version": "2.7.14"
  },
  "widgets": {
   "state": {},
   "version": "1.1.2"
  }
 },
 "nbformat": 4,
 "nbformat_minor": 2
}
