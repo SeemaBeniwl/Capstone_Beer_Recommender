{
 "cells": [
  {
   "cell_type": "markdown",
   "metadata": {
    "slideshow": {
     "slide_type": "slide"
    }
   },
   "source": [
    "# Exploratory Data Analysis\n",
    "\n",
    "## This contains the EDA of the Beer Info Dataset."
   ]
  },
  {
   "cell_type": "markdown",
   "metadata": {
    "slideshow": {
     "slide_type": "slide"
    }
   },
   "source": [
    "**Importing Default Python Libraries**"
   ]
  },
  {
   "cell_type": "code",
   "execution_count": 1,
   "metadata": {
    "slideshow": {
     "slide_type": "fragment"
    }
   },
   "outputs": [],
   "source": [
    "import pandas as pd\n",
    "import matplotlib.pyplot as plt\n",
    "import numpy as np\n",
    "import seaborn as sns\n",
    "import pickle\n",
    "import re\n",
    "\n",
    "%matplotlib inline"
   ]
  },
  {
   "cell_type": "markdown",
   "metadata": {
    "slideshow": {
     "slide_type": "slide"
    }
   },
   "source": [
    "**Loading the Dataset and having a glance at the dataset**"
   ]
  },
  {
   "cell_type": "code",
   "execution_count": 2,
   "metadata": {
    "slideshow": {
     "slide_type": "fragment"
    }
   },
   "outputs": [
    {
     "data": {
      "text/html": [
       "<div>\n",
       "<style>\n",
       "    .dataframe thead tr:only-child th {\n",
       "        text-align: right;\n",
       "    }\n",
       "\n",
       "    .dataframe thead th {\n",
       "        text-align: left;\n",
       "    }\n",
       "\n",
       "    .dataframe tbody tr th {\n",
       "        vertical-align: top;\n",
       "    }\n",
       "</style>\n",
       "<table border=\"1\" class=\"dataframe\">\n",
       "  <thead>\n",
       "    <tr style=\"text-align: right;\">\n",
       "      <th></th>\n",
       "      <th>state</th>\n",
       "      <th>beer_rank</th>\n",
       "      <th>beer_name</th>\n",
       "      <th>beer_style</th>\n",
       "      <th>brewer</th>\n",
       "      <th>review_count</th>\n",
       "      <th>overall_score</th>\n",
       "      <th>style_score</th>\n",
       "      <th>wgt_avg</th>\n",
       "      <th>abv</th>\n",
       "      <th>est_cal</th>\n",
       "      <th>mean</th>\n",
       "      <th>ibu</th>\n",
       "      <th>beer_desc</th>\n",
       "      <th>beer_img</th>\n",
       "    </tr>\n",
       "  </thead>\n",
       "  <tbody>\n",
       "    <tr>\n",
       "      <th>0</th>\n",
       "      <td>ALABAMA</td>\n",
       "      <td>1</td>\n",
       "      <td>Good People El Gordo Imperial Stout</td>\n",
       "      <td>Imperial Stout</td>\n",
       "      <td>Good People Brewing Company</td>\n",
       "      <td>15</td>\n",
       "      <td>99.0</td>\n",
       "      <td>90.0</td>\n",
       "      <td>3.89</td>\n",
       "      <td>13.9</td>\n",
       "      <td>417.0</td>\n",
       "      <td>4.13</td>\n",
       "      <td>65.0</td>\n",
       "      <td>NaN</td>\n",
       "      <td>http://res.cloudinary.com/ratebeer/image/uploa...</td>\n",
       "    </tr>\n",
       "    <tr>\n",
       "      <th>1</th>\n",
       "      <td>ALABAMA</td>\n",
       "      <td>2</td>\n",
       "      <td>Straight To Ale Laika Russian Imperial Stout -...</td>\n",
       "      <td>Imperial Stout</td>\n",
       "      <td>Straight To Ale</td>\n",
       "      <td>53</td>\n",
       "      <td>98.0</td>\n",
       "      <td>72.0</td>\n",
       "      <td>NaN</td>\n",
       "      <td>11.7</td>\n",
       "      <td>351.0</td>\n",
       "      <td>NaN</td>\n",
       "      <td>NaN</td>\n",
       "      <td>NaN</td>\n",
       "      <td>http://res.cloudinary.com/ratebeer/image/uploa...</td>\n",
       "    </tr>\n",
       "    <tr>\n",
       "      <th>2</th>\n",
       "      <td>ALABAMA</td>\n",
       "      <td>3</td>\n",
       "      <td>Straight To Ale Laika Russian Imperial Stout</td>\n",
       "      <td>Imperial Stout</td>\n",
       "      <td>Straight To Ale</td>\n",
       "      <td>55</td>\n",
       "      <td>97.0</td>\n",
       "      <td>71.0</td>\n",
       "      <td>NaN</td>\n",
       "      <td>NaN</td>\n",
       "      <td>74.0</td>\n",
       "      <td>NaN</td>\n",
       "      <td>NaN</td>\n",
       "      <td>Second offering from the \"Right to Brew\" serie...</td>\n",
       "      <td>http://res.cloudinary.com/ratebeer/image/uploa...</td>\n",
       "    </tr>\n",
       "  </tbody>\n",
       "</table>\n",
       "</div>"
      ],
      "text/plain": [
       "     state  beer_rank                                          beer_name  \\\n",
       "0  ALABAMA          1                Good People El Gordo Imperial Stout   \n",
       "1  ALABAMA          2  Straight To Ale Laika Russian Imperial Stout -...   \n",
       "2  ALABAMA          3       Straight To Ale Laika Russian Imperial Stout   \n",
       "\n",
       "       beer_style                       brewer  review_count  overall_score  \\\n",
       "0  Imperial Stout  Good People Brewing Company            15           99.0   \n",
       "1  Imperial Stout              Straight To Ale            53           98.0   \n",
       "2  Imperial Stout              Straight To Ale            55           97.0   \n",
       "\n",
       "   style_score  wgt_avg   abv  est_cal  mean   ibu  \\\n",
       "0         90.0     3.89  13.9    417.0  4.13  65.0   \n",
       "1         72.0      NaN  11.7    351.0   NaN   NaN   \n",
       "2         71.0      NaN   NaN     74.0   NaN   NaN   \n",
       "\n",
       "                                           beer_desc  \\\n",
       "0                                                NaN   \n",
       "1                                                NaN   \n",
       "2  Second offering from the \"Right to Brew\" serie...   \n",
       "\n",
       "                                            beer_img  \n",
       "0  http://res.cloudinary.com/ratebeer/image/uploa...  \n",
       "1  http://res.cloudinary.com/ratebeer/image/uploa...  \n",
       "2  http://res.cloudinary.com/ratebeer/image/uploa...  "
      ]
     },
     "execution_count": 2,
     "metadata": {},
     "output_type": "execute_result"
    }
   ],
   "source": [
    "beer_info = pd.read_csv(\"../raw_data/Beer_info_data/beer_info_clean.csv\")\n",
    "beer_info.head(3)"
   ]
  },
  {
   "cell_type": "markdown",
   "metadata": {
    "slideshow": {
     "slide_type": "slide"
    }
   },
   "source": [
    "**After having a glipse at the dataset it was very much needed to check the data types and making required changes as below mentioned variables are changed to numeric.**"
   ]
  },
  {
   "cell_type": "code",
   "execution_count": 3,
   "metadata": {
    "slideshow": {
     "slide_type": "subslide"
    }
   },
   "outputs": [
    {
     "name": "stdout",
     "output_type": "stream",
     "text": [
      "state             object\n",
      "beer_rank          int64\n",
      "beer_name         object\n",
      "beer_style        object\n",
      "brewer            object\n",
      "review_count       int64\n",
      "overall_score    float64\n",
      "style_score      float64\n",
      "wgt_avg          float64\n",
      "abv              float64\n",
      "est_cal          float64\n",
      "mean             float64\n",
      "ibu              float64\n",
      "beer_desc         object\n",
      "beer_img          object\n",
      "dtype: object\n"
     ]
    }
   ],
   "source": [
    "beer_info[[\"wgt_avg\", \"est_cal\", \"ibu\"]] = beer_info[[\"wgt_avg\", \"est_cal\", \"ibu\"]].apply(pd.to_numeric)\n",
    "print beer_info.dtypes"
   ]
  },
  {
   "cell_type": "markdown",
   "metadata": {
    "slideshow": {
     "slide_type": "slide"
    }
   },
   "source": [
    "**Following are the details of the EDA**\n",
    "- First we are going to look at the counts of the dataset"
   ]
  },
  {
   "cell_type": "code",
   "execution_count": 5,
   "metadata": {
    "slideshow": {
     "slide_type": "fragment"
    }
   },
   "outputs": [
    {
     "data": {
      "text/plain": [
       "state            1275\n",
       "beer_rank        1275\n",
       "beer_name        1275\n",
       "beer_style       1275\n",
       "brewer           1275\n",
       "review_count     1275\n",
       "overall_score    1267\n",
       "style_score      1230\n",
       "wgt_avg           533\n",
       "abv               629\n",
       "est_cal           846\n",
       "mean              533\n",
       "ibu               597\n",
       "beer_desc        1150\n",
       "beer_img         1275\n",
       "dtype: int64"
      ]
     },
     "execution_count": 5,
     "metadata": {},
     "output_type": "execute_result"
    }
   ],
   "source": [
    "beer_info.count()"
   ]
  },
  {
   "cell_type": "code",
   "execution_count": 6,
   "metadata": {
    "slideshow": {
     "slide_type": "skip"
    }
   },
   "outputs": [],
   "source": [
    "a = beer_info[\"overall_score\"]\n",
    "overall_score = a[a.notnull()]"
   ]
  },
  {
   "cell_type": "code",
   "execution_count": 7,
   "metadata": {
    "slideshow": {
     "slide_type": "skip"
    }
   },
   "outputs": [],
   "source": [
    "b = beer_info[\"style_score\"]\n",
    "style_score = b[b.notnull()]"
   ]
  },
  {
   "cell_type": "code",
   "execution_count": 8,
   "metadata": {
    "slideshow": {
     "slide_type": "skip"
    }
   },
   "outputs": [
    {
     "name": "stdout",
     "output_type": "stream",
     "text": [
      "0        99.0\n",
      "1        98.0\n",
      "2        97.0\n",
      "3        97.0\n",
      "4        96.0\n",
      "5        96.0\n",
      "6        96.0\n",
      "7        95.0\n",
      "8        95.0\n",
      "9        94.0\n",
      "10       94.0\n",
      "11       93.0\n",
      "12       92.0\n",
      "13       91.0\n",
      "14       91.0\n",
      "15       91.0\n",
      "16       90.0\n",
      "17       90.0\n",
      "18       89.0\n",
      "19       88.0\n",
      "20       87.0\n",
      "21       86.0\n",
      "22       85.0\n",
      "23       85.0\n",
      "24       85.0\n",
      "25      100.0\n",
      "26      100.0\n",
      "27      100.0\n",
      "28      100.0\n",
      "29      100.0\n",
      "        ...  \n",
      "1245     99.0\n",
      "1246     99.0\n",
      "1247     99.0\n",
      "1248     99.0\n",
      "1249     99.0\n",
      "1250     99.0\n",
      "1251     99.0\n",
      "1252     99.0\n",
      "1253     98.0\n",
      "1254     98.0\n",
      "1255     97.0\n",
      "1256     97.0\n",
      "1257     97.0\n",
      "1258     96.0\n",
      "1259     95.0\n",
      "1260     95.0\n",
      "1261     93.0\n",
      "1262     91.0\n",
      "1263     84.0\n",
      "1264     84.0\n",
      "1265     83.0\n",
      "1266     83.0\n",
      "1267     81.0\n",
      "1268     74.0\n",
      "1269     73.0\n",
      "1270     73.0\n",
      "1271     73.0\n",
      "1272     70.0\n",
      "1273     68.0\n",
      "1274     67.0\n",
      "Name: overall_score, Length: 1275, dtype: float64 0        90.0\n",
      "1        72.0\n",
      "2        71.0\n",
      "3        95.0\n",
      "4        58.0\n",
      "5        84.0\n",
      "6        82.0\n",
      "7        91.0\n",
      "8        47.0\n",
      "9        73.0\n",
      "10       89.0\n",
      "11       49.0\n",
      "12       88.0\n",
      "13       84.0\n",
      "14       56.0\n",
      "15       86.0\n",
      "16       65.0\n",
      "17       91.0\n",
      "18       66.0\n",
      "19       80.0\n",
      "20       48.0\n",
      "21       30.0\n",
      "22       82.0\n",
      "23       98.0\n",
      "24       71.0\n",
      "25       98.0\n",
      "26       98.0\n",
      "27       97.0\n",
      "28       99.0\n",
      "29       96.0\n",
      "        ...  \n",
      "1245     89.0\n",
      "1246     71.0\n",
      "1247    100.0\n",
      "1248    100.0\n",
      "1249     94.0\n",
      "1250     98.0\n",
      "1251     98.0\n",
      "1252     97.0\n",
      "1253     95.0\n",
      "1254     99.0\n",
      "1255     99.0\n",
      "1256     83.0\n",
      "1257     82.0\n",
      "1258     92.0\n",
      "1259      NaN\n",
      "1260     78.0\n",
      "1261     90.0\n",
      "1262     84.0\n",
      "1263     86.0\n",
      "1264     79.0\n",
      "1265     93.0\n",
      "1266     39.0\n",
      "1267     60.0\n",
      "1268     46.0\n",
      "1269     49.0\n",
      "1270     46.0\n",
      "1271     86.0\n",
      "1272     96.0\n",
      "1273     39.0\n",
      "1274     74.0\n",
      "Name: style_score, Length: 1275, dtype: float64\n"
     ]
    }
   ],
   "source": [
    "print a,b"
   ]
  },
  {
   "cell_type": "markdown",
   "metadata": {
    "slideshow": {
     "slide_type": "slide"
    }
   },
   "source": [
    "**Now its important to see the total number of reviews for these beers**"
   ]
  },
  {
   "cell_type": "code",
   "execution_count": 9,
   "metadata": {
    "slideshow": {
     "slide_type": "fragment"
    }
   },
   "outputs": [
    {
     "data": {
      "text/plain": [
       "278066"
      ]
     },
     "execution_count": 9,
     "metadata": {},
     "output_type": "execute_result"
    }
   ],
   "source": [
    "beer_info.review_count.sum()"
   ]
  },
  {
   "cell_type": "code",
   "execution_count": 10,
   "metadata": {
    "slideshow": {
     "slide_type": "skip"
    }
   },
   "outputs": [
    {
     "data": {
      "text/html": [
       "<div>\n",
       "<style>\n",
       "    .dataframe thead tr:only-child th {\n",
       "        text-align: right;\n",
       "    }\n",
       "\n",
       "    .dataframe thead th {\n",
       "        text-align: left;\n",
       "    }\n",
       "\n",
       "    .dataframe tbody tr th {\n",
       "        vertical-align: top;\n",
       "    }\n",
       "</style>\n",
       "<table border=\"1\" class=\"dataframe\">\n",
       "  <thead>\n",
       "    <tr style=\"text-align: right;\">\n",
       "      <th></th>\n",
       "      <th>beer_rank</th>\n",
       "      <th>review_count</th>\n",
       "      <th>overall_score</th>\n",
       "      <th>style_score</th>\n",
       "      <th>wgt_avg</th>\n",
       "      <th>abv</th>\n",
       "      <th>est_cal</th>\n",
       "      <th>mean</th>\n",
       "      <th>ibu</th>\n",
       "    </tr>\n",
       "  </thead>\n",
       "  <tbody>\n",
       "    <tr>\n",
       "      <th>count</th>\n",
       "      <td>1275.000000</td>\n",
       "      <td>1275.000000</td>\n",
       "      <td>1267.000000</td>\n",
       "      <td>1230.000000</td>\n",
       "      <td>533.000000</td>\n",
       "      <td>629.000000</td>\n",
       "      <td>846.000000</td>\n",
       "      <td>533.000000</td>\n",
       "      <td>597.000000</td>\n",
       "    </tr>\n",
       "    <tr>\n",
       "      <th>mean</th>\n",
       "      <td>13.000000</td>\n",
       "      <td>218.090980</td>\n",
       "      <td>93.996054</td>\n",
       "      <td>87.956098</td>\n",
       "      <td>3.654221</td>\n",
       "      <td>9.084229</td>\n",
       "      <td>217.541371</td>\n",
       "      <td>3.817674</td>\n",
       "      <td>185.068677</td>\n",
       "    </tr>\n",
       "    <tr>\n",
       "      <th>std</th>\n",
       "      <td>7.213932</td>\n",
       "      <td>472.287771</td>\n",
       "      <td>12.797085</td>\n",
       "      <td>17.722057</td>\n",
       "      <td>0.297965</td>\n",
       "      <td>2.803233</td>\n",
       "      <td>119.743928</td>\n",
       "      <td>0.334202</td>\n",
       "      <td>117.905976</td>\n",
       "    </tr>\n",
       "    <tr>\n",
       "      <th>min</th>\n",
       "      <td>1.000000</td>\n",
       "      <td>5.000000</td>\n",
       "      <td>0.000000</td>\n",
       "      <td>9.000000</td>\n",
       "      <td>2.550000</td>\n",
       "      <td>3.100000</td>\n",
       "      <td>6.000000</td>\n",
       "      <td>2.300000</td>\n",
       "      <td>4.000000</td>\n",
       "    </tr>\n",
       "    <tr>\n",
       "      <th>25%</th>\n",
       "      <td>7.000000</td>\n",
       "      <td>23.000000</td>\n",
       "      <td>95.000000</td>\n",
       "      <td>85.000000</td>\n",
       "      <td>3.480000</td>\n",
       "      <td>6.800000</td>\n",
       "      <td>115.500000</td>\n",
       "      <td>3.640000</td>\n",
       "      <td>72.000000</td>\n",
       "    </tr>\n",
       "    <tr>\n",
       "      <th>50%</th>\n",
       "      <td>13.000000</td>\n",
       "      <td>54.000000</td>\n",
       "      <td>99.000000</td>\n",
       "      <td>96.000000</td>\n",
       "      <td>3.680000</td>\n",
       "      <td>9.000000</td>\n",
       "      <td>225.000000</td>\n",
       "      <td>3.840000</td>\n",
       "      <td>186.000000</td>\n",
       "    </tr>\n",
       "    <tr>\n",
       "      <th>75%</th>\n",
       "      <td>19.000000</td>\n",
       "      <td>175.000000</td>\n",
       "      <td>100.000000</td>\n",
       "      <td>99.000000</td>\n",
       "      <td>3.870000</td>\n",
       "      <td>11.000000</td>\n",
       "      <td>300.000000</td>\n",
       "      <td>4.050000</td>\n",
       "      <td>267.000000</td>\n",
       "    </tr>\n",
       "    <tr>\n",
       "      <th>max</th>\n",
       "      <td>25.000000</td>\n",
       "      <td>4598.000000</td>\n",
       "      <td>100.000000</td>\n",
       "      <td>100.000000</td>\n",
       "      <td>4.310000</td>\n",
       "      <td>18.500000</td>\n",
       "      <td>555.000000</td>\n",
       "      <td>4.560000</td>\n",
       "      <td>810.000000</td>\n",
       "    </tr>\n",
       "  </tbody>\n",
       "</table>\n",
       "</div>"
      ],
      "text/plain": [
       "         beer_rank  review_count  overall_score  style_score     wgt_avg  \\\n",
       "count  1275.000000   1275.000000    1267.000000  1230.000000  533.000000   \n",
       "mean     13.000000    218.090980      93.996054    87.956098    3.654221   \n",
       "std       7.213932    472.287771      12.797085    17.722057    0.297965   \n",
       "min       1.000000      5.000000       0.000000     9.000000    2.550000   \n",
       "25%       7.000000     23.000000      95.000000    85.000000    3.480000   \n",
       "50%      13.000000     54.000000      99.000000    96.000000    3.680000   \n",
       "75%      19.000000    175.000000     100.000000    99.000000    3.870000   \n",
       "max      25.000000   4598.000000     100.000000   100.000000    4.310000   \n",
       "\n",
       "              abv     est_cal        mean         ibu  \n",
       "count  629.000000  846.000000  533.000000  597.000000  \n",
       "mean     9.084229  217.541371    3.817674  185.068677  \n",
       "std      2.803233  119.743928    0.334202  117.905976  \n",
       "min      3.100000    6.000000    2.300000    4.000000  \n",
       "25%      6.800000  115.500000    3.640000   72.000000  \n",
       "50%      9.000000  225.000000    3.840000  186.000000  \n",
       "75%     11.000000  300.000000    4.050000  267.000000  \n",
       "max     18.500000  555.000000    4.560000  810.000000  "
      ]
     },
     "execution_count": 10,
     "metadata": {},
     "output_type": "execute_result"
    }
   ],
   "source": [
    "beer_info.describe()"
   ]
  },
  {
   "cell_type": "code",
   "execution_count": 11,
   "metadata": {
    "slideshow": {
     "slide_type": "skip"
    }
   },
   "outputs": [
    {
     "data": {
      "text/html": [
       "<div>\n",
       "<style>\n",
       "    .dataframe thead tr:only-child th {\n",
       "        text-align: right;\n",
       "    }\n",
       "\n",
       "    .dataframe thead th {\n",
       "        text-align: left;\n",
       "    }\n",
       "\n",
       "    .dataframe tbody tr th {\n",
       "        vertical-align: top;\n",
       "    }\n",
       "</style>\n",
       "<table border=\"1\" class=\"dataframe\">\n",
       "  <thead>\n",
       "    <tr style=\"text-align: right;\">\n",
       "      <th></th>\n",
       "      <th>beer_rank</th>\n",
       "      <th>review_count</th>\n",
       "      <th>overall_score</th>\n",
       "      <th>style_score</th>\n",
       "      <th>wgt_avg</th>\n",
       "      <th>abv</th>\n",
       "      <th>est_cal</th>\n",
       "      <th>mean</th>\n",
       "      <th>ibu</th>\n",
       "    </tr>\n",
       "  </thead>\n",
       "  <tbody>\n",
       "    <tr>\n",
       "      <th>count</th>\n",
       "      <td>1275.00</td>\n",
       "      <td>1275.00</td>\n",
       "      <td>1267.0</td>\n",
       "      <td>1230.00</td>\n",
       "      <td>533.00</td>\n",
       "      <td>629.00</td>\n",
       "      <td>846.00</td>\n",
       "      <td>533.00</td>\n",
       "      <td>597.00</td>\n",
       "    </tr>\n",
       "    <tr>\n",
       "      <th>mean</th>\n",
       "      <td>13.00</td>\n",
       "      <td>218.09</td>\n",
       "      <td>94.0</td>\n",
       "      <td>87.96</td>\n",
       "      <td>3.65</td>\n",
       "      <td>9.08</td>\n",
       "      <td>217.54</td>\n",
       "      <td>3.82</td>\n",
       "      <td>185.07</td>\n",
       "    </tr>\n",
       "    <tr>\n",
       "      <th>std</th>\n",
       "      <td>7.21</td>\n",
       "      <td>472.29</td>\n",
       "      <td>12.8</td>\n",
       "      <td>17.72</td>\n",
       "      <td>0.30</td>\n",
       "      <td>2.80</td>\n",
       "      <td>119.74</td>\n",
       "      <td>0.33</td>\n",
       "      <td>117.91</td>\n",
       "    </tr>\n",
       "    <tr>\n",
       "      <th>min</th>\n",
       "      <td>1.00</td>\n",
       "      <td>5.00</td>\n",
       "      <td>0.0</td>\n",
       "      <td>9.00</td>\n",
       "      <td>2.55</td>\n",
       "      <td>3.10</td>\n",
       "      <td>6.00</td>\n",
       "      <td>2.30</td>\n",
       "      <td>4.00</td>\n",
       "    </tr>\n",
       "    <tr>\n",
       "      <th>25%</th>\n",
       "      <td>7.00</td>\n",
       "      <td>23.00</td>\n",
       "      <td>95.0</td>\n",
       "      <td>85.00</td>\n",
       "      <td>3.48</td>\n",
       "      <td>6.80</td>\n",
       "      <td>115.50</td>\n",
       "      <td>3.64</td>\n",
       "      <td>72.00</td>\n",
       "    </tr>\n",
       "    <tr>\n",
       "      <th>50%</th>\n",
       "      <td>13.00</td>\n",
       "      <td>54.00</td>\n",
       "      <td>99.0</td>\n",
       "      <td>96.00</td>\n",
       "      <td>3.68</td>\n",
       "      <td>9.00</td>\n",
       "      <td>225.00</td>\n",
       "      <td>3.84</td>\n",
       "      <td>186.00</td>\n",
       "    </tr>\n",
       "    <tr>\n",
       "      <th>75%</th>\n",
       "      <td>19.00</td>\n",
       "      <td>175.00</td>\n",
       "      <td>100.0</td>\n",
       "      <td>99.00</td>\n",
       "      <td>3.87</td>\n",
       "      <td>11.00</td>\n",
       "      <td>300.00</td>\n",
       "      <td>4.05</td>\n",
       "      <td>267.00</td>\n",
       "    </tr>\n",
       "    <tr>\n",
       "      <th>max</th>\n",
       "      <td>25.00</td>\n",
       "      <td>4598.00</td>\n",
       "      <td>100.0</td>\n",
       "      <td>100.00</td>\n",
       "      <td>4.31</td>\n",
       "      <td>18.50</td>\n",
       "      <td>555.00</td>\n",
       "      <td>4.56</td>\n",
       "      <td>810.00</td>\n",
       "    </tr>\n",
       "  </tbody>\n",
       "</table>\n",
       "</div>"
      ],
      "text/plain": [
       "       beer_rank  review_count  overall_score  style_score  wgt_avg     abv  \\\n",
       "count    1275.00       1275.00         1267.0      1230.00   533.00  629.00   \n",
       "mean       13.00        218.09           94.0        87.96     3.65    9.08   \n",
       "std         7.21        472.29           12.8        17.72     0.30    2.80   \n",
       "min         1.00          5.00            0.0         9.00     2.55    3.10   \n",
       "25%         7.00         23.00           95.0        85.00     3.48    6.80   \n",
       "50%        13.00         54.00           99.0        96.00     3.68    9.00   \n",
       "75%        19.00        175.00          100.0        99.00     3.87   11.00   \n",
       "max        25.00       4598.00          100.0       100.00     4.31   18.50   \n",
       "\n",
       "       est_cal    mean     ibu  \n",
       "count   846.00  533.00  597.00  \n",
       "mean    217.54    3.82  185.07  \n",
       "std     119.74    0.33  117.91  \n",
       "min       6.00    2.30    4.00  \n",
       "25%     115.50    3.64   72.00  \n",
       "50%     225.00    3.84  186.00  \n",
       "75%     300.00    4.05  267.00  \n",
       "max     555.00    4.56  810.00  "
      ]
     },
     "execution_count": 11,
     "metadata": {},
     "output_type": "execute_result"
    }
   ],
   "source": [
    "beer_info.describe().round(2)"
   ]
  },
  {
   "cell_type": "markdown",
   "metadata": {
    "slideshow": {
     "slide_type": "slide"
    }
   },
   "source": [
    "**And next step is to count the number of breweries and checking which one brews highest number of beers.**\n",
    "\n",
    "- There are total of 355 breweries. "
   ]
  },
  {
   "cell_type": "code",
   "execution_count": 12,
   "metadata": {
    "slideshow": {
     "slide_type": "subslide"
    }
   },
   "outputs": [
    {
     "data": {
      "text/html": [
       "<div>\n",
       "<style>\n",
       "    .dataframe thead tr:only-child th {\n",
       "        text-align: right;\n",
       "    }\n",
       "\n",
       "    .dataframe thead th {\n",
       "        text-align: left;\n",
       "    }\n",
       "\n",
       "    .dataframe tbody tr th {\n",
       "        vertical-align: top;\n",
       "    }\n",
       "</style>\n",
       "<table border=\"1\" class=\"dataframe\">\n",
       "  <thead>\n",
       "    <tr style=\"text-align: right;\">\n",
       "      <th></th>\n",
       "      <th>count</th>\n",
       "    </tr>\n",
       "  </thead>\n",
       "  <tbody>\n",
       "    <tr>\n",
       "      <th>Toppling Goliath</th>\n",
       "      <td>22</td>\n",
       "    </tr>\n",
       "    <tr>\n",
       "      <th>Three Floyds Brewing Company</th>\n",
       "      <td>22</td>\n",
       "    </tr>\n",
       "    <tr>\n",
       "      <th>Hill Farmstead Brewery</th>\n",
       "      <td>21</td>\n",
       "    </tr>\n",
       "    <tr>\n",
       "      <th>Westbrook Brewing</th>\n",
       "      <td>21</td>\n",
       "    </tr>\n",
       "    <tr>\n",
       "      <th>Prairie Artisan Ales</th>\n",
       "      <td>21</td>\n",
       "    </tr>\n",
       "    <tr>\n",
       "      <th>Superstition Meadery</th>\n",
       "      <td>17</td>\n",
       "    </tr>\n",
       "    <tr>\n",
       "      <th>Nebraska Brewing Company</th>\n",
       "      <td>16</td>\n",
       "    </tr>\n",
       "    <tr>\n",
       "      <th>Dogfish Head Brewery</th>\n",
       "      <td>15</td>\n",
       "    </tr>\n",
       "    <tr>\n",
       "      <th>Wicked Weed Brewing</th>\n",
       "      <td>15</td>\n",
       "    </tr>\n",
       "    <tr>\n",
       "      <th>Trillium Brewing Company</th>\n",
       "      <td>14</td>\n",
       "    </tr>\n",
       "    <tr>\n",
       "      <th>Side Project Brewing</th>\n",
       "      <td>14</td>\n",
       "    </tr>\n",
       "    <tr>\n",
       "      <th>Evil Twin Brewing</th>\n",
       "      <td>13</td>\n",
       "    </tr>\n",
       "    <tr>\n",
       "      <th>Southern Prohibition Brewery</th>\n",
       "      <td>13</td>\n",
       "    </tr>\n",
       "    <tr>\n",
       "      <th>Epic Brewing Company (UT/CO)</th>\n",
       "      <td>13</td>\n",
       "    </tr>\n",
       "    <tr>\n",
       "      <th>Stillwater Artisanal</th>\n",
       "      <td>13</td>\n",
       "    </tr>\n",
       "    <tr>\n",
       "      <th>Allagash Brewing Company</th>\n",
       "      <td>13</td>\n",
       "    </tr>\n",
       "    <tr>\n",
       "      <th>Free State Brewing Company</th>\n",
       "      <td>12</td>\n",
       "    </tr>\n",
       "    <tr>\n",
       "      <th>Bluejacket</th>\n",
       "      <td>12</td>\n",
       "    </tr>\n",
       "    <tr>\n",
       "      <th>Anchorage Brewing Company</th>\n",
       "      <td>12</td>\n",
       "    </tr>\n",
       "    <tr>\n",
       "      <th>Maui Brewing Company</th>\n",
       "      <td>12</td>\n",
       "    </tr>\n",
       "    <tr>\n",
       "      <th>Against the Grain Brewery</th>\n",
       "      <td>12</td>\n",
       "    </tr>\n",
       "    <tr>\n",
       "      <th>Hoppin' Frog Brewery</th>\n",
       "      <td>11</td>\n",
       "    </tr>\n",
       "    <tr>\n",
       "      <th>Kane Brewing Company</th>\n",
       "      <td>11</td>\n",
       "    </tr>\n",
       "    <tr>\n",
       "      <th>Jester King Brewery</th>\n",
       "      <td>11</td>\n",
       "    </tr>\n",
       "    <tr>\n",
       "      <th>Straight To Ale</th>\n",
       "      <td>11</td>\n",
       "    </tr>\n",
       "    <tr>\n",
       "      <th>Midnight Sun Brewing Company</th>\n",
       "      <td>11</td>\n",
       "    </tr>\n",
       "    <tr>\n",
       "      <th>Firehouse Brewing Company (SD)</th>\n",
       "      <td>10</td>\n",
       "    </tr>\n",
       "    <tr>\n",
       "      <th>New Glarus Brewing Company</th>\n",
       "      <td>10</td>\n",
       "    </tr>\n",
       "    <tr>\n",
       "      <th>Tree House Brewing Company</th>\n",
       "      <td>10</td>\n",
       "    </tr>\n",
       "    <tr>\n",
       "      <th>La Cumbre Brewing Company</th>\n",
       "      <td>10</td>\n",
       "    </tr>\n",
       "    <tr>\n",
       "      <th>...</th>\n",
       "      <td>...</td>\n",
       "    </tr>\n",
       "    <tr>\n",
       "      <th>North Coast Brewing Company</th>\n",
       "      <td>1</td>\n",
       "    </tr>\n",
       "    <tr>\n",
       "      <th>Thirsty Dog Brewing Company</th>\n",
       "      <td>1</td>\n",
       "    </tr>\n",
       "    <tr>\n",
       "      <th>LaConner Brewing Company</th>\n",
       "      <td>1</td>\n",
       "    </tr>\n",
       "    <tr>\n",
       "      <th>Draught Works Brewery</th>\n",
       "      <td>1</td>\n",
       "    </tr>\n",
       "    <tr>\n",
       "      <th>Boulevard Brewing Company (Duvel-Moortgat)</th>\n",
       "      <td>1</td>\n",
       "    </tr>\n",
       "    <tr>\n",
       "      <th>Oxbow Brewing Company</th>\n",
       "      <td>1</td>\n",
       "    </tr>\n",
       "    <tr>\n",
       "      <th>Crooked Letter Brewing Company</th>\n",
       "      <td>1</td>\n",
       "    </tr>\n",
       "    <tr>\n",
       "      <th>Karbach Brewing (AB InBev)</th>\n",
       "      <td>1</td>\n",
       "    </tr>\n",
       "    <tr>\n",
       "      <th>Firestone Walker Brewing (Duvel Moortgat)</th>\n",
       "      <td>1</td>\n",
       "    </tr>\n",
       "    <tr>\n",
       "      <th>Kauai Island Brewing Company</th>\n",
       "      <td>1</td>\n",
       "    </tr>\n",
       "    <tr>\n",
       "      <th>Mother's Brewing Company</th>\n",
       "      <td>1</td>\n",
       "    </tr>\n",
       "    <tr>\n",
       "      <th>Mountain Dragon Mazery</th>\n",
       "      <td>1</td>\n",
       "    </tr>\n",
       "    <tr>\n",
       "      <th>Tregs Brewing Company</th>\n",
       "      <td>1</td>\n",
       "    </tr>\n",
       "    <tr>\n",
       "      <th>5 Seasons Brewing Company</th>\n",
       "      <td>1</td>\n",
       "    </tr>\n",
       "    <tr>\n",
       "      <th>Indeed Brewing Company</th>\n",
       "      <td>1</td>\n",
       "    </tr>\n",
       "    <tr>\n",
       "      <th>Bent Paddle Brewing Co.</th>\n",
       "      <td>1</td>\n",
       "    </tr>\n",
       "    <tr>\n",
       "      <th>Old Schoolhouse Brewery</th>\n",
       "      <td>1</td>\n",
       "    </tr>\n",
       "    <tr>\n",
       "      <th>Alpine Beer Company (CA)</th>\n",
       "      <td>1</td>\n",
       "    </tr>\n",
       "    <tr>\n",
       "      <th>Yellowstone Valley Brewing Company</th>\n",
       "      <td>1</td>\n",
       "    </tr>\n",
       "    <tr>\n",
       "      <th>Warped Wing Brewing</th>\n",
       "      <td>1</td>\n",
       "    </tr>\n",
       "    <tr>\n",
       "      <th>The Livery</th>\n",
       "      <td>1</td>\n",
       "    </tr>\n",
       "    <tr>\n",
       "      <th>Grimm Artisanal Ales</th>\n",
       "      <td>1</td>\n",
       "    </tr>\n",
       "    <tr>\n",
       "      <th>Bad Beat Brewing</th>\n",
       "      <td>1</td>\n",
       "    </tr>\n",
       "    <tr>\n",
       "      <th>Prairie Berry Winery</th>\n",
       "      <td>1</td>\n",
       "    </tr>\n",
       "    <tr>\n",
       "      <th>Boscos Brewing Company (Roma Pomodori)</th>\n",
       "      <td>1</td>\n",
       "    </tr>\n",
       "    <tr>\n",
       "      <th>Legend Brewing Company</th>\n",
       "      <td>1</td>\n",
       "    </tr>\n",
       "    <tr>\n",
       "      <th>Alba Vineyard</th>\n",
       "      <td>1</td>\n",
       "    </tr>\n",
       "    <tr>\n",
       "      <th>Real Ale Brewing Company</th>\n",
       "      <td>1</td>\n",
       "    </tr>\n",
       "    <tr>\n",
       "      <th>Logsdon Organic Farmhouse Ales</th>\n",
       "      <td>1</td>\n",
       "    </tr>\n",
       "    <tr>\n",
       "      <th>Lift Bridge Brewing Company</th>\n",
       "      <td>1</td>\n",
       "    </tr>\n",
       "  </tbody>\n",
       "</table>\n",
       "<p>335 rows × 1 columns</p>\n",
       "</div>"
      ],
      "text/plain": [
       "                                            count\n",
       "Toppling Goliath                               22\n",
       "Three Floyds Brewing Company                   22\n",
       "Hill Farmstead Brewery                         21\n",
       "Westbrook Brewing                              21\n",
       "Prairie Artisan Ales                           21\n",
       "Superstition Meadery                           17\n",
       "Nebraska Brewing Company                       16\n",
       "Dogfish Head Brewery                           15\n",
       "Wicked Weed Brewing                            15\n",
       "Trillium Brewing Company                       14\n",
       "Side Project Brewing                           14\n",
       "Evil Twin Brewing                              13\n",
       "Southern Prohibition Brewery                   13\n",
       "Epic Brewing Company (UT/CO)                   13\n",
       "Stillwater Artisanal                           13\n",
       "Allagash Brewing Company                       13\n",
       "Free State Brewing Company                     12\n",
       "Bluejacket                                     12\n",
       "Anchorage Brewing Company                      12\n",
       "Maui Brewing Company                           12\n",
       "Against the Grain Brewery                      12\n",
       "Hoppin' Frog Brewery                           11\n",
       "Kane Brewing Company                           11\n",
       "Jester King Brewery                            11\n",
       "Straight To Ale                                11\n",
       "Midnight Sun Brewing Company                   11\n",
       "Firehouse Brewing Company (SD)                 10\n",
       "New Glarus Brewing Company                     10\n",
       "Tree House Brewing Company                     10\n",
       "La Cumbre Brewing Company                      10\n",
       "...                                           ...\n",
       "North Coast Brewing Company                     1\n",
       "Thirsty Dog Brewing Company                     1\n",
       "LaConner Brewing Company                        1\n",
       "Draught Works Brewery                           1\n",
       "Boulevard Brewing Company (Duvel-Moortgat)      1\n",
       "Oxbow Brewing Company                           1\n",
       "Crooked Letter Brewing Company                  1\n",
       "Karbach Brewing (AB InBev)                      1\n",
       "Firestone Walker Brewing (Duvel Moortgat)       1\n",
       "Kauai Island Brewing Company                    1\n",
       "Mother's Brewing Company                        1\n",
       "Mountain Dragon Mazery                          1\n",
       "Tregs Brewing Company                           1\n",
       "5 Seasons Brewing Company                       1\n",
       "Indeed Brewing Company                          1\n",
       "Bent Paddle Brewing Co.                         1\n",
       "Old Schoolhouse Brewery                         1\n",
       "Alpine Beer Company (CA)                        1\n",
       "Yellowstone Valley Brewing Company              1\n",
       "Warped Wing Brewing                             1\n",
       "The Livery                                      1\n",
       "Grimm Artisanal Ales                            1\n",
       "Bad Beat Brewing                                1\n",
       "Prairie Berry Winery                            1\n",
       "Boscos Brewing Company (Roma Pomodori)          1\n",
       "Legend Brewing Company                          1\n",
       "Alba Vineyard                                   1\n",
       "Real Ale Brewing Company                        1\n",
       "Logsdon Organic Farmhouse Ales                  1\n",
       "Lift Bridge Brewing Company                     1\n",
       "\n",
       "[335 rows x 1 columns]"
      ]
     },
     "execution_count": 12,
     "metadata": {},
     "output_type": "execute_result"
    }
   ],
   "source": [
    "brewer_counts = beer_info['brewer'].value_counts()\n",
    "pd.DataFrame({'count': brewer_counts})"
   ]
  },
  {
   "cell_type": "markdown",
   "metadata": {
    "slideshow": {
     "slide_type": "slide"
    }
   },
   "source": [
    "**And more to see the info, we dig at `Beer Style` and find out which beer style is most famous.**"
   ]
  },
  {
   "cell_type": "code",
   "execution_count": 13,
   "metadata": {
    "slideshow": {
     "slide_type": "subslide"
    }
   },
   "outputs": [
    {
     "data": {
      "image/png": "[encoded data removed]",
      "text/plain": [
       "<matplotlib.figure.Figure at 0x7f76c54cb750>"
      ]
     },
     "metadata": {},
     "output_type": "display_data"
    }
   ],
   "source": [
    "f, ax = plt.subplots(figsize = (6,15))\n",
    "style_sns = sns.barplot(x = beer_info.beer_style.value_counts(), y = beer_info.beer_style.value_counts().index,\n",
    "                       orient = 'h')\n"
   ]
  },
  {
   "cell_type": "code",
   "execution_count": 14,
   "metadata": {
    "slideshow": {
     "slide_type": "subslide"
    }
   },
   "outputs": [
    {
     "name": "stdout",
     "output_type": "stream",
     "text": [
      "Imperial Stout                     352\n",
      "Imperial IPA                       146\n",
      "India Pale Ale (IPA)               118\n",
      "Sour/Wild Ale                       85\n",
      "Barley Wine                         54\n",
      "Saison                              45\n",
      "Mead                                42\n",
      "American Pale Ale                   42\n",
      "Porter                              40\n",
      "Imperial Porter                     35\n",
      "American Strong Ale                 30\n",
      "Sweet Stout                         26\n",
      "Black IPA                           26\n",
      "Stout                               24\n",
      "Belgian Strong Ale                  16\n",
      "Sour Red/Brown                      14\n",
      "Spice/Herb/Vegetable                13\n",
      "Lambic Style - Fruit                13\n",
      "Berliner Weisse                     12\n",
      "Baltic Porter                       11\n",
      "Brown Ale                            9\n",
      "Abt/Quadrupel                        7\n",
      "Scotch Ale                           7\n",
      "Smoked                               7\n",
      "Foreign Stout                        7\n",
      "Specialty Grain                      7\n",
      "Fruit Beer                           7\n",
      "Grodziskie/Gose/Lichtenhainer        6\n",
      "Abbey Tripel                         5\n",
      "Session IPA                          5\n",
      "Witbier                              4\n",
      "Lambic Style - Gueuze                4\n",
      "Cider                                4\n",
      "Oktoberfest/Marzen                   4\n",
      "Old Ale                              4\n",
      "Amber Ale                            4\n",
      "Traditional Ale                      4\n",
      "Premium Bitter/ESB                   3\n",
      "Golden Ale/Blond Ale                 3\n",
      "Schwarzbier                          3\n",
      "German Hefeweizen                    3\n",
      "Weizen Bock                          3\n",
      "Belgian Ale                          3\n",
      "Abbey Dubbel                         2\n",
      "English Pale Ale                     2\n",
      "Doppelbock                           2\n",
      "Wheat Ale                            1\n",
      "Dunkel/Tmav                          1\n",
      "Dry Stout                            1\n",
      "Pale Lager                           1\n",
      "Scottish Ale                         1\n",
      "Cream Ale                            1\n",
      "Ice Cider/Ice Perry                  1\n",
      "Irish Ale                            1\n",
      "Eisbock                              1\n",
      "Premium Lager                        1\n",
      "Imperial Pils/Strong Pale Lager      1\n",
      "Kolsch                               1\n",
      "Name: beer_style, dtype: int64\n"
     ]
    }
   ],
   "source": [
    "print beer_info.beer_style.value_counts()"
   ]
  },
  {
   "cell_type": "markdown",
   "metadata": {
    "slideshow": {
     "slide_type": "slide"
    }
   },
   "source": [
    "**As we saw earlier that missing values are more in variables `wgt_avg`, `abv`, `ibu`, `est_cal` and `mean`, hence to get more insights from them, violin plot is used.**"
   ]
  },
  {
   "cell_type": "code",
   "execution_count": 27,
   "metadata": {
    "slideshow": {
     "slide_type": "slide"
    }
   },
   "outputs": [
    {
     "data": {
      "image/png": "[encoded data removed]",
      "text/plain": [
       "<matplotlib.figure.Figure at 0x7f76b6e47790>"
      ]
     },
     "metadata": {},
     "output_type": "display_data"
    },
    {
     "data": {
      "image/png": "[encoded data removed]",
      "text/plain": [
       "<matplotlib.figure.Figure at 0x7f76b68d9190>"
      ]
     },
     "metadata": {},
     "output_type": "display_data"
    },
    {
     "data": {
      "image/png": "[encoded data removed]",
      "text/plain": [
       "<matplotlib.figure.Figure at 0x7f76b6ea03d0>"
      ]
     },
     "metadata": {},
     "output_type": "display_data"
    },
    {
     "data": {
      "image/png": "[encoded data removed]",
      "text/plain": [
       "<matplotlib.figure.Figure at 0x7f76c54cb590>"
      ]
     },
     "metadata": {},
     "output_type": "display_data"
    }
   ],
   "source": [
    "col_names = ['wgt_avg', 'overall_score', 'style_score', 'abv', 'est_cal', 'ibu', 'mean']\n",
    "for i in range(0,len(col_names),2):\n",
    "    if len(col_names) > i+1:\n",
    "        plt.figure(figsize=(12,8))\n",
    "        plt.subplot(121)\n",
    "        sns.violinplot(beer_info[col_names[i]], orient='v')\n",
    "        plt.subplot(122)            \n",
    "        sns.violinplot(beer_info[col_names[i+1]], orient='v')\n",
    "        plt.tight_layout()\n",
    "        plt.show()\n",
    "    else:\n",
    "        sns.violinplot(beer_info[col_names[i]], orient='v')"
   ]
  },
  {
   "cell_type": "markdown",
   "metadata": {
    "slideshow": {
     "slide_type": "subslide"
    }
   },
   "source": [
    "### Inferences from the Violin plot\n",
    "\n",
    "- The weighted average looks normal with mean around 3.7\n",
    "- The Overall core and style score are heavliy skewed towards 100\n",
    "- The % abv has a median between 8 and 9, and ranging from a bit under 2.5 % abv to close to 20 % abv.\n",
    "- F or estimated calories we have two peaks, one around 50 calories and one around 250 calories.\n",
    "- This is perhaps a separation between so-called light beers and heavier beers"
   ]
  }
 ],
 "metadata": {
  "celltoolbar": "Slideshow",
  "kernelspec": {
   "display_name": "Python 2",
   "language": "python",
   "name": "python2"
  },
  "language_info": {
   "codemirror_mode": {
    "name": "ipython",
    "version": 2
   },
   "file_extension": ".py",
   "mimetype": "text/x-python",
   "name": "python",
   "nbconvert_exporter": "python",
   "pygments_lexer": "ipython2",
   "version": "2.7.14"
  },
  "widgets": {
   "state": {},
   "version": "1.1.2"
  }
 },
 "nbformat": 4,
 "nbformat_minor": 2
}
