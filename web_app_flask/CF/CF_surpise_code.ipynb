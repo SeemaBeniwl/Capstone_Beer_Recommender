{
 "cells": [
  {
   "cell_type": "markdown",
   "metadata": {},
   "source": [
    "## Collaborative Filtering Using Surprise"
   ]
  },
  {
   "cell_type": "code",
   "execution_count": 1,
   "metadata": {},
   "outputs": [],
   "source": [
    "import pandas as pd\n",
    "import numpy as np\n",
    "from surprise import SVD\n",
    "from surprise import evaluate\n",
    "import os\n",
    "import sys\n",
    "from surprise import Reader\n",
    "from surprise import Dataset"
   ]
  },
  {
   "cell_type": "code",
   "execution_count": 2,
   "metadata": {},
   "outputs": [],
   "source": [
    "df = pd.read_csv(\"user_beer_rating_facorized.csv\",header=0)\n",
    "df = df.rename(columns={'beer':'item'})"
   ]
  },
  {
   "cell_type": "code",
   "execution_count": 3,
   "metadata": {},
   "outputs": [
    {
     "data": {
      "text/plain": [
       "user        int64\n",
       "item        int64\n",
       "rating    float64\n",
       "dtype: object"
      ]
     },
     "execution_count": 3,
     "metadata": {},
     "output_type": "execute_result"
    }
   ],
   "source": [
    "df.dtypes"
   ]
  },
  {
   "cell_type": "markdown",
   "metadata": {},
   "source": [
    "**Loading the data from Pandas Dataframe into surprise form.**"
   ]
  },
  {
   "cell_type": "code",
   "execution_count": 4,
   "metadata": {},
   "outputs": [],
   "source": [
    "# file_path = os.path.expanduser('user_beer_rating_facorized.csv')\n",
    "reader = Reader(rating_scale=(1, 5))\n",
    "# reader = Reader(line_format='user item rating', sep=',', skip_lines=1)\n",
    "data = Dataset.load_from_df(df[['user', 'item', 'rating']], reader=reader)\n",
    "data.split(n_folds=5)"
   ]
  },
  {
   "cell_type": "markdown",
   "metadata": {},
   "source": [
    "**Creating a basic SVD and SVD++ model and evaluating the `Root mean square error` and `Mean absolute error` through the model**"
   ]
  },
  {
   "cell_type": "code",
   "execution_count": 5,
   "metadata": {},
   "outputs": [
    {
     "name": "stdout",
     "output_type": "stream",
     "text": [
      "Evaluating RMSE, MAE of algorithm SVD.\n",
      "\n",
      "------------\n",
      "Fold 1\n",
      "RMSE: 0.3698\n",
      "MAE:  0.2643\n",
      "------------\n",
      "Fold 2\n",
      "RMSE: 0.3701\n",
      "MAE:  0.2627\n",
      "------------\n",
      "Fold 3\n",
      "RMSE: 0.3787\n",
      "MAE:  0.2665\n",
      "------------\n",
      "Fold 4\n",
      "RMSE: 0.3704\n",
      "MAE:  0.2642\n",
      "------------\n",
      "Fold 5\n",
      "RMSE: 0.3744\n",
      "MAE:  0.2655\n",
      "------------\n",
      "------------\n",
      "Mean RMSE: 0.3727\n",
      "Mean MAE : 0.2647\n",
      "------------\n",
      "------------\n"
     ]
    },
    {
     "data": {
      "text/plain": [
       "CaseInsensitiveDefaultDict(list,\n",
       "                           {'mae': [0.26428840883007015,\n",
       "                             0.26272849683456079,\n",
       "                             0.26646979548643906,\n",
       "                             0.26424793253284551,\n",
       "                             0.26553477426913369],\n",
       "                            'rmse': [0.36982354950697655,\n",
       "                             0.37012655126779703,\n",
       "                             0.37872689946118532,\n",
       "                             0.37035246234109054,\n",
       "                             0.37438312050184619]})"
      ]
     },
     "execution_count": 5,
     "metadata": {},
     "output_type": "execute_result"
    }
   ],
   "source": [
    "algo = SVD()\n",
    "evaluate(algo, data, measures=['RMSE', 'MAE'])"
   ]
  },
  {
   "cell_type": "code",
   "execution_count": 6,
   "metadata": {
    "scrolled": true
   },
   "outputs": [
    {
     "name": "stdout",
     "output_type": "stream",
     "text": [
      "Evaluating RMSE, MAE of algorithm SVDpp.\n",
      "\n",
      "------------\n",
      "Fold 1\n",
      "RMSE: 0.3676\n",
      "MAE:  0.2622\n",
      "------------\n",
      "Fold 2\n",
      "RMSE: 0.3673\n",
      "MAE:  0.2601\n",
      "------------\n",
      "Fold 3\n",
      "RMSE: 0.3761\n",
      "MAE:  0.2640\n",
      "------------\n",
      "Fold 4\n",
      "RMSE: 0.3677\n",
      "MAE:  0.2616\n",
      "------------\n",
      "Fold 5\n",
      "RMSE: 0.3720\n",
      "MAE:  0.2630\n",
      "------------\n",
      "------------\n",
      "Mean RMSE: 0.3701\n",
      "Mean MAE : 0.2622\n",
      "------------\n",
      "------------\n"
     ]
    },
    {
     "data": {
      "text/plain": [
       "CaseInsensitiveDefaultDict(list,\n",
       "                           {'mae': [0.26221734883579956,\n",
       "                             0.2600918473169252,\n",
       "                             0.2639877237471891,\n",
       "                             0.26158469529747819,\n",
       "                             0.26295382366801567],\n",
       "                            'rmse': [0.36763823532881901,\n",
       "                             0.36731697676598074,\n",
       "                             0.37612183132847776,\n",
       "                             0.36770036172706438,\n",
       "                             0.37195648505757578]})"
      ]
     },
     "execution_count": 6,
     "metadata": {},
     "output_type": "execute_result"
    }
   ],
   "source": [
    "from surprise import SVDpp\n",
    "algo1 = SVDpp()\n",
    "evaluate(algo1, data, measures=['RMSE', 'MAE'])"
   ]
  },
  {
   "cell_type": "markdown",
   "metadata": {},
   "source": [
    "**Now creating a training set of the data for prediction purpose**"
   ]
  },
  {
   "cell_type": "code",
   "execution_count": 7,
   "metadata": {},
   "outputs": [],
   "source": [
    "trainset = data.build_full_trainset()"
   ]
  },
  {
   "cell_type": "code",
   "execution_count": 8,
   "metadata": {},
   "outputs": [],
   "source": [
    "algo.train(trainset)"
   ]
  },
  {
   "cell_type": "code",
   "execution_count": 9,
   "metadata": {},
   "outputs": [],
   "source": [
    "user = 1465\n",
    "item = 31\n",
    "actual_rating = 4.1"
   ]
  },
  {
   "cell_type": "code",
   "execution_count": 10,
   "metadata": {},
   "outputs": [
    {
     "name": "stdout",
     "output_type": "stream",
     "text": [
      "user: 1465       item: 31         r_ui = 4.10   est = 4.18   {u'was_impossible': False}\n"
     ]
    }
   ],
   "source": [
    "print algo.predict(user, 31, 4.1)"
   ]
  },
  {
   "cell_type": "markdown",
   "metadata": {},
   "source": [
    "**Using the SVD++ algo for prediction**"
   ]
  },
  {
   "cell_type": "code",
   "execution_count": 11,
   "metadata": {},
   "outputs": [],
   "source": [
    "algo1.train(trainset)"
   ]
  },
  {
   "cell_type": "code",
   "execution_count": 12,
   "metadata": {},
   "outputs": [
    {
     "name": "stdout",
     "output_type": "stream",
     "text": [
      "user: 1465       item: 31         r_ui = 4.10   est = 4.22   {u'was_impossible': False}\n"
     ]
    }
   ],
   "source": [
    "print algo1.predict(user, 31, 4.1)"
   ]
  },
  {
   "cell_type": "markdown",
   "metadata": {},
   "source": [
    "**Performing the Hypertuning of the parameter**"
   ]
  },
  {
   "cell_type": "code",
   "execution_count": 13,
   "metadata": {},
   "outputs": [],
   "source": [
    "param_grid = {'n_epochs': [1, 5], 'lr_all': [0.002, 0.005],\n",
    "              'reg_all': [0.4, 0.6]}"
   ]
  },
  {
   "cell_type": "code",
   "execution_count": 14,
   "metadata": {},
   "outputs": [],
   "source": [
    "from surprise import GridSearch"
   ]
  },
  {
   "cell_type": "code",
   "execution_count": 15,
   "metadata": {},
   "outputs": [
    {
     "name": "stdout",
     "output_type": "stream",
     "text": [
      "[{'lr_all': 0.002, 'reg_all': 0.4, 'n_epochs': 1}, {'lr_all': 0.002, 'reg_all': 0.4, 'n_epochs': 5}, {'lr_all': 0.002, 'reg_all': 0.6, 'n_epochs': 1}, {'lr_all': 0.002, 'reg_all': 0.6, 'n_epochs': 5}, {'lr_all': 0.005, 'reg_all': 0.4, 'n_epochs': 1}, {'lr_all': 0.005, 'reg_all': 0.4, 'n_epochs': 5}, {'lr_all': 0.005, 'reg_all': 0.6, 'n_epochs': 1}, {'lr_all': 0.005, 'reg_all': 0.6, 'n_epochs': 5}]\n"
     ]
    }
   ],
   "source": [
    "grid_search = GridSearch(SVD, param_grid, measures=['RMSE', 'FCP'])"
   ]
  },
  {
   "cell_type": "code",
   "execution_count": 16,
   "metadata": {},
   "outputs": [
    {
     "name": "stdout",
     "output_type": "stream",
     "text": [
      "------------\n",
      "Parameters combination 1 of 8\n",
      "params:  {'lr_all': 0.002, 'reg_all': 0.4, 'n_epochs': 1}\n",
      "------------\n",
      "Mean RMSE: 0.4129\n",
      "Mean FCP : 0.6008\n",
      "------------\n",
      "------------\n",
      "Parameters combination 2 of 8\n",
      "params:  {'lr_all': 0.002, 'reg_all': 0.4, 'n_epochs': 5}\n",
      "------------\n",
      "Mean RMSE: 0.3902\n",
      "Mean FCP : 0.6579\n",
      "------------\n",
      "------------\n",
      "Parameters combination 3 of 8\n",
      "params:  {'lr_all': 0.002, 'reg_all': 0.6, 'n_epochs': 1}\n",
      "------------\n",
      "Mean RMSE: 0.4132\n",
      "Mean FCP : 0.6078\n",
      "------------\n",
      "------------\n",
      "Parameters combination 4 of 8\n",
      "params:  {'lr_all': 0.002, 'reg_all': 0.6, 'n_epochs': 5}\n",
      "------------\n",
      "Mean RMSE: 0.3927\n",
      "Mean FCP : 0.6608\n",
      "------------\n",
      "------------\n",
      "Parameters combination 5 of 8\n",
      "params:  {'lr_all': 0.005, 'reg_all': 0.4, 'n_epochs': 1}\n",
      "------------\n",
      "Mean RMSE: 0.4004\n",
      "Mean FCP : 0.6364\n",
      "------------\n",
      "------------\n",
      "Parameters combination 6 of 8\n",
      "params:  {'lr_all': 0.005, 'reg_all': 0.4, 'n_epochs': 5}\n",
      "------------\n",
      "Mean RMSE: 0.3827\n",
      "Mean FCP : 0.6656\n",
      "------------\n",
      "------------\n",
      "Parameters combination 7 of 8\n",
      "params:  {'lr_all': 0.005, 'reg_all': 0.6, 'n_epochs': 1}\n",
      "------------\n",
      "Mean RMSE: 0.4017\n",
      "Mean FCP : 0.6424\n",
      "------------\n",
      "------------\n",
      "Parameters combination 8 of 8\n",
      "params:  {'lr_all': 0.005, 'reg_all': 0.6, 'n_epochs': 5}\n",
      "------------\n",
      "Mean RMSE: 0.3859\n",
      "Mean FCP : 0.6657\n",
      "------------\n"
     ]
    }
   ],
   "source": [
    "grid_search.evaluate(data)"
   ]
  },
  {
   "cell_type": "code",
   "execution_count": 17,
   "metadata": {},
   "outputs": [
    {
     "name": "stdout",
     "output_type": "stream",
     "text": [
      "0.382682855402\n"
     ]
    }
   ],
   "source": [
    "print(grid_search.best_score['RMSE'])"
   ]
  },
  {
   "cell_type": "code",
   "execution_count": 18,
   "metadata": {},
   "outputs": [
    {
     "name": "stdout",
     "output_type": "stream",
     "text": [
      "{'lr_all': 0.005, 'reg_all': 0.4, 'n_epochs': 5}\n"
     ]
    }
   ],
   "source": [
    "print(grid_search.best_params['RMSE'])"
   ]
  },
  {
   "cell_type": "code",
   "execution_count": 19,
   "metadata": {},
   "outputs": [
    {
     "name": "stdout",
     "output_type": "stream",
     "text": [
      "        FCP      RMSE  lr_all  \\\n",
      "0  0.600811  0.412888   0.002   \n",
      "1  0.657917  0.390198   0.002   \n",
      "2  0.607762  0.413239   0.002   \n",
      "3  0.660822  0.392739   0.002   \n",
      "4  0.636413  0.400443   0.005   \n",
      "5  0.665603  0.382683   0.005   \n",
      "6  0.642358  0.401658   0.005   \n",
      "7  0.665657  0.385915   0.005   \n",
      "\n",
      "                                              params  reg_all  \\\n",
      "0  {u'lr_all': 0.002, u'reg_all': 0.4, u'n_epochs...      0.4   \n",
      "1  {u'lr_all': 0.002, u'reg_all': 0.4, u'n_epochs...      0.4   \n",
      "2  {u'lr_all': 0.002, u'reg_all': 0.6, u'n_epochs...      0.6   \n",
      "3  {u'lr_all': 0.002, u'reg_all': 0.6, u'n_epochs...      0.6   \n",
      "4  {u'lr_all': 0.005, u'reg_all': 0.4, u'n_epochs...      0.4   \n",
      "5  {u'lr_all': 0.005, u'reg_all': 0.4, u'n_epochs...      0.4   \n",
      "6  {u'lr_all': 0.005, u'reg_all': 0.6, u'n_epochs...      0.6   \n",
      "7  {u'lr_all': 0.005, u'reg_all': 0.6, u'n_epochs...      0.6   \n",
      "\n",
      "                                              scores  \n",
      "0     {u'FCP': 0.60081117343, u'RMSE': 0.4128883147}  \n",
      "1   {u'FCP': 0.657916736331, u'RMSE': 0.39019783115}  \n",
      "2   {u'FCP': 0.60776217417, u'RMSE': 0.413238653331}  \n",
      "3  {u'FCP': 0.660821528768, u'RMSE': 0.392739456659}  \n",
      "4  {u'FCP': 0.636412531415, u'RMSE': 0.400442955808}  \n",
      "5   {u'FCP': 0.66560272188, u'RMSE': 0.382682855402}  \n",
      "6  {u'FCP': 0.642357869143, u'RMSE': 0.401657745219}  \n",
      "7  {u'FCP': 0.665656597732, u'RMSE': 0.385914603815}  \n"
     ]
    }
   ],
   "source": [
    "results_df = pd.DataFrame.from_dict(grid_search.cv_results)\n",
    "print(results_df)"
   ]
  },
  {
   "cell_type": "code",
   "execution_count": 20,
   "metadata": {},
   "outputs": [
    {
     "name": "stdout",
     "output_type": "stream",
     "text": [
      "[{'lr_all': 0.002, 'reg_all': 0.4, 'n_epochs': 1}, {'lr_all': 0.002, 'reg_all': 0.4, 'n_epochs': 5}, {'lr_all': 0.002, 'reg_all': 0.6, 'n_epochs': 1}, {'lr_all': 0.002, 'reg_all': 0.6, 'n_epochs': 5}, {'lr_all': 0.005, 'reg_all': 0.4, 'n_epochs': 1}, {'lr_all': 0.005, 'reg_all': 0.4, 'n_epochs': 5}, {'lr_all': 0.005, 'reg_all': 0.6, 'n_epochs': 1}, {'lr_all': 0.005, 'reg_all': 0.6, 'n_epochs': 5}]\n"
     ]
    }
   ],
   "source": [
    "grid_search1 = GridSearch(SVDpp, param_grid, measures=['RMSE', 'FCP'])"
   ]
  },
  {
   "cell_type": "code",
   "execution_count": 21,
   "metadata": {},
   "outputs": [
    {
     "name": "stdout",
     "output_type": "stream",
     "text": [
      "------------\n",
      "Parameters combination 1 of 8\n",
      "params:  {'lr_all': 0.002, 'reg_all': 0.4, 'n_epochs': 1}\n",
      "------------\n",
      "Mean RMSE: 0.4099\n",
      "Mean FCP : 0.6281\n",
      "------------\n",
      "------------\n",
      "Parameters combination 2 of 8\n",
      "params:  {'lr_all': 0.002, 'reg_all': 0.4, 'n_epochs': 5}\n",
      "------------\n",
      "Mean RMSE: 0.3897\n",
      "Mean FCP : 0.6615\n",
      "------------\n",
      "------------\n",
      "Parameters combination 3 of 8\n",
      "params:  {'lr_all': 0.002, 'reg_all': 0.6, 'n_epochs': 1}\n",
      "------------\n",
      "Mean RMSE: 0.4110\n",
      "Mean FCP : 0.6319\n",
      "------------\n",
      "------------\n",
      "Parameters combination 4 of 8\n",
      "params:  {'lr_all': 0.002, 'reg_all': 0.6, 'n_epochs': 5}\n",
      "------------\n",
      "Mean RMSE: 0.3924\n",
      "Mean FCP : 0.6622\n",
      "------------\n",
      "------------\n",
      "Parameters combination 5 of 8\n",
      "params:  {'lr_all': 0.005, 'reg_all': 0.4, 'n_epochs': 1}\n",
      "------------\n",
      "Mean RMSE: 0.3993\n",
      "Mean FCP : 0.6475\n",
      "------------\n",
      "------------\n",
      "Parameters combination 6 of 8\n",
      "params:  {'lr_all': 0.005, 'reg_all': 0.4, 'n_epochs': 5}\n",
      "------------\n",
      "Mean RMSE: 0.3825\n",
      "Mean FCP : 0.6657\n",
      "------------\n",
      "------------\n",
      "Parameters combination 7 of 8\n",
      "params:  {'lr_all': 0.005, 'reg_all': 0.6, 'n_epochs': 1}\n",
      "------------\n",
      "Mean RMSE: 0.4009\n",
      "Mean FCP : 0.6494\n",
      "------------\n",
      "------------\n",
      "Parameters combination 8 of 8\n",
      "params:  {'lr_all': 0.005, 'reg_all': 0.6, 'n_epochs': 5}\n",
      "------------\n",
      "Mean RMSE: 0.3858\n",
      "Mean FCP : 0.6657\n",
      "------------\n"
     ]
    }
   ],
   "source": [
    "grid_search1.evaluate(data)"
   ]
  },
  {
   "cell_type": "code",
   "execution_count": 25,
   "metadata": {},
   "outputs": [
    {
     "name": "stdout",
     "output_type": "stream",
     "text": [
      "0.382518396706\n",
      "{'lr_all': 0.005, 'reg_all': 0.4, 'n_epochs': 5}\n"
     ]
    }
   ],
   "source": [
    "print(grid_search1.best_score['RMSE'])\n",
    "print(grid_search1.best_params['RMSE'])"
   ]
  },
  {
   "cell_type": "code",
   "execution_count": null,
   "metadata": {},
   "outputs": [],
   "source": []
  }
 ],
 "metadata": {
  "kernelspec": {
   "display_name": "Python 2",
   "language": "python",
   "name": "python2"
  },
  "language_info": {
   "codemirror_mode": {
    "name": "ipython",
    "version": 2
   },
   "file_extension": ".py",
   "mimetype": "text/x-python",
   "name": "python",
   "nbconvert_exporter": "python",
   "pygments_lexer": "ipython2",
   "version": "2.7.14"
  },
  "widgets": {
   "state": {},
   "version": "1.1.2"
  }
 },
 "nbformat": 4,
 "nbformat_minor": 2
}
